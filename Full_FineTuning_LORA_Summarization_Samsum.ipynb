{
 "cells": [
  {
   "cell_type": "markdown",
   "metadata": {
    "tags": []
   },
   "source": [
    "# Fine-Tune a LLM for Summarization Task: Samsum Dataset"
   ]
  },
  {
   "cell_type": "markdown",
   "metadata": {},
   "source": [
    "In this notebook, you will fine-tune an existing LLM from Hugging Face for enhanced dialogue summarization. You will use the [FLAN-T5](https://huggingface.co/docs/transformers/model_doc/flan-t5) model, which provides a high quality instruction tuned model and can summarize text out of the box. To improve the inferences, you will explore a full fine-tuning approach and evaluate the results with ROUGE metrics. Then you will perform Parameter Efficient Fine-Tuning (PEFT), evaluate the resulting model and see that the benefits of PEFT outweigh the slightly-lower performance metrics."
   ]
  },
  {
   "cell_type": "markdown",
   "metadata": {},
   "source": [
    "# Table of Contents"
   ]
  },
  {
   "cell_type": "markdown",
   "metadata": {
    "tags": []
   },
   "source": [
    "- [ 1 - Set up Kernel, Load Required Dependencies, Dataset and LLM](#1)\n",
    "  - [ 1.1 - Set up Kernel and Required Dependencies](#1.1)\n",
    "  - [ 1.2 - Load Dataset and LLM](#1.2)\n",
    "  - [ 1.3 - Test the Model with Zero Shot Inferencing](#1.3)\n",
    "- [ 2 - Perform Full Fine-Tuning](#2)\n",
    "  - [ 2.1 - Preprocess the Dialog-Summary Dataset](#2.1)\n",
    "  - [ 2.2 - Fine-Tune the Model with the Preprocessed Dataset](#2.2)\n",
    "  - [ 2.3 - Evaluate the Model Qualitatively (Human Evaluation)](#2.3)\n",
    "  - [ 2.4 - Evaluate the Model Quantitatively (with ROUGE Metric)](#2.4)\n",
    "- [ 3 - Perform Parameter Efficient Fine-Tuning (PEFT)](#3)\n",
    "  - [ 3.1 - Setup the PEFT/LoRA model for Fine-Tuning](#3.1)\n",
    "  - [ 3.2 - Train PEFT Adapter](#3.2)\n",
    "  - [ 3.3 - Evaluate the Model Qualitatively (Human Evaluation)](#3.3)\n",
    "  - [ 3.4 - Evaluate the Model Quantitatively (with ROUGE Metric)](#3.4)"
   ]
  },
  {
   "cell_type": "markdown",
   "metadata": {},
   "source": [
    "<a name='1'></a>\n",
    "## 1 - Set up Kernel, Load Required Dependencies, Dataset and LLM"
   ]
  },
  {
   "cell_type": "markdown",
   "metadata": {},
   "source": [
    "<a name='1.1'></a>\n",
    "### 1.1 - Set up Kernel and Required Dependencies"
   ]
  },
  {
   "cell_type": "code",
   "execution_count": 1,
   "metadata": {
    "tags": []
   },
   "outputs": [],
   "source": [
    "# %pip install --upgrade pip\n",
    "# %pip install --disable-pip-version-check torch==1.13.1 torchdata==0.5.1 --quiet\n",
    "# %pip install transformers==4.27.2 datasets==2.11.0 py7zr evaluate==0.4.0 rouge_score==0.1.2 loralib==0.1.1 peft==0.3.0 --quiet"
   ]
  },
  {
   "cell_type": "markdown",
   "metadata": {
    "tags": []
   },
   "source": [
    "<img src=\"data:image/svg+xml;base64,Cjxzdmcgd2lkdGg9IjgwMCIgaGVpZ2h0PSI1MCIgdmlld0JveD0iMCAwIDgwMCA1MCIgeG1sbnM9Imh0dHA6Ly93d3cudzMub3JnLzIwMDAvc3ZnIj4KICAgIDxkZWZzPgogICAgICAgIDxsaW5lYXJHcmFkaWVudCBpZD0iZmFkZUdyYWRpZW50IiB4MT0iMCIgeDI9IjEiPgogICAgICAgICAgICA8c3RvcCBvZmZzZXQ9IjAlIiBzdG9wLWNvbG9yPSIjRjBGMEYwIi8+CiAgICAgICAgICAgIDxzdG9wIG9mZnNldD0iMTAwJSIgc3RvcC1jb2xvcj0iI0YwRjBGMCIgc3RvcC1vcGFjaXR5PSIwIi8+CiAgICAgICAgPC9saW5lYXJHcmFkaWVudD4KICAgICAgICA8bWFzayBpZD0iZmFkZU1hc2siPgogICAgICAgICAgICA8cmVjdCB4PSIwIiB5PSIwIiB3aWR0aD0iNzUwIiBoZWlnaHQ9IjUwIiBmaWxsPSJ3aGl0ZSIvPgogICAgICAgICAgICA8cmVjdCB4PSI3NTAiIHk9IjAiIHdpZHRoPSI1MCIgaGVpZ2h0PSI1MCIgZmlsbD0idXJsKCNmYWRlR3JhZGllbnQpIi8+CiAgICAgICAgPC9tYXNrPgogICAgPC9kZWZzPgogICAgPHBhdGggZD0iTTI1LDUwIFEwLDUwIDAsMjUgTDUwLDMgTDk3LDI1IEw3OTcsMjUgTDc5Nyw1MCBMMjUsNTAgWiIgZmlsbD0iI0YwRjBGMCIgc3Ryb2tlPSIjRTBFMEUwIiBzdHJva2Utd2lkdGg9IjEiIG1hc2s9InVybCgjZmFkZU1hc2spIi8+Cjwvc3ZnPgo=\" alt=\"Time alert close\"/>"
   ]
  },
  {
   "cell_type": "markdown",
   "metadata": {
    "tags": []
   },
   "source": [
    "Import the necessary components. Some of them are new for this week, they will be discussed later in the notebook. "
   ]
  },
  {
   "cell_type": "code",
   "execution_count": 2,
   "metadata": {
    "tags": []
   },
   "outputs": [
    {
     "name": "stderr",
     "output_type": "stream",
     "text": [
      "2023-09-21 07:11:10.691580: I tensorflow/core/platform/cpu_feature_guard.cc:182] This TensorFlow binary is optimized to use available CPU instructions in performance-critical operations.\n",
      "To enable the following instructions: AVX2 FMA, in other operations, rebuild TensorFlow with the appropriate compiler flags.\n",
      "2023-09-21 07:11:11.538606: W tensorflow/compiler/tf2tensorrt/utils/py_utils.cc:38] TF-TRT Warning: Could not find TensorRT\n"
     ]
    }
   ],
   "source": [
    "from datasets import load_dataset\n",
    "from transformers import AutoModelForSeq2SeqLM, AutoTokenizer, GenerationConfig, TrainingArguments, Trainer\n",
    "import torch\n",
    "import time\n",
    "import evaluate\n",
    "import pandas as pd\n",
    "import numpy as np"
   ]
  },
  {
   "cell_type": "markdown",
   "metadata": {
    "tags": []
   },
   "source": [
    "<a name='1.2'></a>\n",
    "### 1.2 - Load Dataset and LLM\n",
    "\n",
    "The [SAMSum](https://huggingface.co/datasets/samsum) dataset contains about 16k messenger-like conversations with summaries. Conversations were created and written down by linguists fluent in English. Linguists were asked to create conversations similar to those they write on a daily basis, reflecting the proportion of topics of their real-life messenger convesations. The style and register are diversified - conversations could be informal, semi-formal or formal, they may contain slang words, emoticons and typos. Then, the conversations were annotated with summaries. It was assumed that summaries should be a concise brief of what people talked about in the conversation in third person. The SAMSum dataset was prepared by Samsung R&D Institute Poland and is distributed for research purposes (non-commercial licence: CC BY-NC-ND 4.0)."
   ]
  },
  {
   "cell_type": "code",
   "execution_count": 3,
   "metadata": {
    "tags": []
   },
   "outputs": [
    {
     "name": "stderr",
     "output_type": "stream",
     "text": [
      "HF google storage unreachable. Downloading and preparing it from source\n"
     ]
    },
    {
     "data": {
      "application/json": {
       "ascii": false,
       "bar_format": null,
       "colour": null,
       "elapsed": 0.019988298416137695,
       "initial": 0,
       "n": 0,
       "ncols": null,
       "nrows": null,
       "postfix": null,
       "prefix": "Downloading data",
       "rate": null,
       "total": 2944100,
       "unit": "B",
       "unit_divisor": 1000,
       "unit_scale": true
      },
      "application/vnd.jupyter.widget-view+json": {
       "model_id": "789dd40d3ec14b828c649235bdb9b78d",
       "version_major": 2,
       "version_minor": 0
      },
      "text/plain": [
       "Downloading data:   0%|          | 0.00/2.94M [00:00<?, ?B/s]"
      ]
     },
     "metadata": {},
     "output_type": "display_data"
    },
    {
     "data": {
      "application/json": {
       "ascii": false,
       "bar_format": null,
       "colour": null,
       "elapsed": 0.014731645584106445,
       "initial": 0,
       "n": 0,
       "ncols": null,
       "nrows": null,
       "postfix": null,
       "prefix": "Generating train split",
       "rate": null,
       "total": 14732,
       "unit": " examples",
       "unit_divisor": 1000,
       "unit_scale": false
      },
      "application/vnd.jupyter.widget-view+json": {
       "model_id": "38c2d162658b4a9c82faf5fea3913f53",
       "version_major": 2,
       "version_minor": 0
      },
      "text/plain": [
       "Generating train split:   0%|          | 0/14732 [00:00<?, ? examples/s]"
      ]
     },
     "metadata": {},
     "output_type": "display_data"
    },
    {
     "data": {
      "application/json": {
       "ascii": false,
       "bar_format": null,
       "colour": null,
       "elapsed": 0.014616727828979492,
       "initial": 0,
       "n": 0,
       "ncols": null,
       "nrows": null,
       "postfix": null,
       "prefix": "Generating test split",
       "rate": null,
       "total": 819,
       "unit": " examples",
       "unit_divisor": 1000,
       "unit_scale": false
      },
      "application/vnd.jupyter.widget-view+json": {
       "model_id": "226d886a5974498db8b560ea9c665bb6",
       "version_major": 2,
       "version_minor": 0
      },
      "text/plain": [
       "Generating test split:   0%|          | 0/819 [00:00<?, ? examples/s]"
      ]
     },
     "metadata": {},
     "output_type": "display_data"
    },
    {
     "data": {
      "application/json": {
       "ascii": false,
       "bar_format": null,
       "colour": null,
       "elapsed": 0.014530420303344727,
       "initial": 0,
       "n": 0,
       "ncols": null,
       "nrows": null,
       "postfix": null,
       "prefix": "Generating validation split",
       "rate": null,
       "total": 818,
       "unit": " examples",
       "unit_divisor": 1000,
       "unit_scale": false
      },
      "application/vnd.jupyter.widget-view+json": {
       "model_id": "ae60db63d09d45b6a9e93719bfea1d01",
       "version_major": 2,
       "version_minor": 0
      },
      "text/plain": [
       "Generating validation split:   0%|          | 0/818 [00:00<?, ? examples/s]"
      ]
     },
     "metadata": {},
     "output_type": "display_data"
    },
    {
     "data": {
      "text/plain": [
       "DatasetDict({\n",
       "    train: Dataset({\n",
       "        features: ['id', 'dialogue', 'summary'],\n",
       "        num_rows: 14732\n",
       "    })\n",
       "    test: Dataset({\n",
       "        features: ['id', 'dialogue', 'summary'],\n",
       "        num_rows: 819\n",
       "    })\n",
       "    validation: Dataset({\n",
       "        features: ['id', 'dialogue', 'summary'],\n",
       "        num_rows: 818\n",
       "    })\n",
       "})"
      ]
     },
     "execution_count": 3,
     "metadata": {},
     "output_type": "execute_result"
    }
   ],
   "source": [
    "huggingface_dataset_name = \"samsum\"\n",
    "\n",
    "dataset = load_dataset(huggingface_dataset_name)\n",
    "\n",
    "dataset"
   ]
  },
  {
   "cell_type": "markdown",
   "metadata": {
    "tags": []
   },
   "source": [
    "Load the pre-trained [FLAN-T5 model](https://huggingface.co/docs/transformers/model_doc/flan-t5) and its tokenizer directly from HuggingFace. Notice that you will be using the [small version](https://huggingface.co/google/flan-t5-base) of FLAN-T5. Setting `torch_dtype=torch.bfloat16` specifies the memory type to be used by this model."
   ]
  },
  {
   "cell_type": "code",
   "execution_count": 4,
   "metadata": {
    "tags": []
   },
   "outputs": [
    {
     "name": "stdout",
     "output_type": "stream",
     "text": [
      "cuda\n"
     ]
    },
    {
     "data": {
      "application/json": {
       "ascii": false,
       "bar_format": null,
       "colour": null,
       "elapsed": 0.014870166778564453,
       "initial": 0,
       "n": 0,
       "ncols": null,
       "nrows": null,
       "postfix": null,
       "prefix": "Downloading (…)lve/main/config.json",
       "rate": null,
       "total": 1404,
       "unit": "B",
       "unit_divisor": 1000,
       "unit_scale": true
      },
      "application/vnd.jupyter.widget-view+json": {
       "model_id": "586ac76851e048268cfc11f7813ef420",
       "version_major": 2,
       "version_minor": 0
      },
      "text/plain": [
       "Downloading (…)lve/main/config.json:   0%|          | 0.00/1.40k [00:00<?, ?B/s]"
      ]
     },
     "metadata": {},
     "output_type": "display_data"
    },
    {
     "data": {
      "application/json": {
       "ascii": false,
       "bar_format": null,
       "colour": null,
       "elapsed": 0.015173196792602539,
       "initial": 0,
       "n": 0,
       "ncols": null,
       "nrows": null,
       "postfix": null,
       "prefix": "Downloading model.safetensors",
       "rate": null,
       "total": 990345061,
       "unit": "B",
       "unit_divisor": 1000,
       "unit_scale": true
      },
      "application/vnd.jupyter.widget-view+json": {
       "model_id": "e4c8b735a0f64cb2ae80df594f5b3b17",
       "version_major": 2,
       "version_minor": 0
      },
      "text/plain": [
       "Downloading model.safetensors:   0%|          | 0.00/990M [00:00<?, ?B/s]"
      ]
     },
     "metadata": {},
     "output_type": "display_data"
    },
    {
     "data": {
      "application/json": {
       "ascii": false,
       "bar_format": null,
       "colour": null,
       "elapsed": 0.014655113220214844,
       "initial": 0,
       "n": 0,
       "ncols": null,
       "nrows": null,
       "postfix": null,
       "prefix": "Downloading (…)neration_config.json",
       "rate": null,
       "total": 147,
       "unit": "B",
       "unit_divisor": 1000,
       "unit_scale": true
      },
      "application/vnd.jupyter.widget-view+json": {
       "model_id": "16167b4a7d43416cba3fdc1fd546c977",
       "version_major": 2,
       "version_minor": 0
      },
      "text/plain": [
       "Downloading (…)neration_config.json:   0%|          | 0.00/147 [00:00<?, ?B/s]"
      ]
     },
     "metadata": {},
     "output_type": "display_data"
    },
    {
     "data": {
      "application/json": {
       "ascii": false,
       "bar_format": null,
       "colour": null,
       "elapsed": 0.015173196792602539,
       "initial": 0,
       "n": 0,
       "ncols": null,
       "nrows": null,
       "postfix": null,
       "prefix": "Downloading (…)okenizer_config.json",
       "rate": null,
       "total": 2537,
       "unit": "B",
       "unit_divisor": 1000,
       "unit_scale": true
      },
      "application/vnd.jupyter.widget-view+json": {
       "model_id": "ac35bad5c34742f0b52ad60f9a063c2f",
       "version_major": 2,
       "version_minor": 0
      },
      "text/plain": [
       "Downloading (…)okenizer_config.json:   0%|          | 0.00/2.54k [00:00<?, ?B/s]"
      ]
     },
     "metadata": {},
     "output_type": "display_data"
    },
    {
     "data": {
      "application/json": {
       "ascii": false,
       "bar_format": null,
       "colour": null,
       "elapsed": 0.01735234260559082,
       "initial": 0,
       "n": 0,
       "ncols": null,
       "nrows": null,
       "postfix": null,
       "prefix": "Downloading spiece.model",
       "rate": null,
       "total": 791656,
       "unit": "B",
       "unit_divisor": 1000,
       "unit_scale": true
      },
      "application/vnd.jupyter.widget-view+json": {
       "model_id": "e2cdb1ad1a9c457e9a53c32ca4b0ffd4",
       "version_major": 2,
       "version_minor": 0
      },
      "text/plain": [
       "Downloading spiece.model:   0%|          | 0.00/792k [00:00<?, ?B/s]"
      ]
     },
     "metadata": {},
     "output_type": "display_data"
    },
    {
     "data": {
      "application/json": {
       "ascii": false,
       "bar_format": null,
       "colour": null,
       "elapsed": 0.015317916870117188,
       "initial": 0,
       "n": 0,
       "ncols": null,
       "nrows": null,
       "postfix": null,
       "prefix": "Downloading (…)/main/tokenizer.json",
       "rate": null,
       "total": 2424064,
       "unit": "B",
       "unit_divisor": 1000,
       "unit_scale": true
      },
      "application/vnd.jupyter.widget-view+json": {
       "model_id": "47b1902aca934ff68bbf5ce25e59ff03",
       "version_major": 2,
       "version_minor": 0
      },
      "text/plain": [
       "Downloading (…)/main/tokenizer.json:   0%|          | 0.00/2.42M [00:00<?, ?B/s]"
      ]
     },
     "metadata": {},
     "output_type": "display_data"
    },
    {
     "data": {
      "application/json": {
       "ascii": false,
       "bar_format": null,
       "colour": null,
       "elapsed": 0.014812946319580078,
       "initial": 0,
       "n": 0,
       "ncols": null,
       "nrows": null,
       "postfix": null,
       "prefix": "Downloading (…)cial_tokens_map.json",
       "rate": null,
       "total": 2201,
       "unit": "B",
       "unit_divisor": 1000,
       "unit_scale": true
      },
      "application/vnd.jupyter.widget-view+json": {
       "model_id": "7399999141404785b2e83a1642696cd8",
       "version_major": 2,
       "version_minor": 0
      },
      "text/plain": [
       "Downloading (…)cial_tokens_map.json:   0%|          | 0.00/2.20k [00:00<?, ?B/s]"
      ]
     },
     "metadata": {},
     "output_type": "display_data"
    }
   ],
   "source": [
    "model_name='google/flan-t5-base'\n",
    "device = \"cuda\" if torch.cuda.is_available() else \"cpu\"\n",
    "print(device)\n",
    "original_model = AutoModelForSeq2SeqLM.from_pretrained(model_name, torch_dtype=torch.bfloat16).to(device)\n",
    "tokenizer = AutoTokenizer.from_pretrained(model_name)"
   ]
  },
  {
   "cell_type": "markdown",
   "metadata": {
    "tags": []
   },
   "source": [
    "It is possible to pull out the number of model parameters and find out how many of them are trainable. The following function can be used to do that, at this stage, you do not need to go into details of it. "
   ]
  },
  {
   "cell_type": "code",
   "execution_count": 5,
   "metadata": {
    "tags": []
   },
   "outputs": [
    {
     "name": "stdout",
     "output_type": "stream",
     "text": [
      "trainable model parameters: 247577856\n",
      "all model parameters: 247577856\n",
      "percentage of trainable model parameters: 100.00%\n"
     ]
    }
   ],
   "source": [
    "def print_number_of_trainable_model_parameters(model):\n",
    "    trainable_model_params = 0\n",
    "    all_model_params = 0\n",
    "    for _, param in model.named_parameters():\n",
    "        all_model_params += param.numel()\n",
    "        if param.requires_grad:\n",
    "            trainable_model_params += param.numel()\n",
    "    return f\"trainable model parameters: {trainable_model_params}\\nall model parameters: {all_model_params}\\npercentage of trainable model parameters: {100 * trainable_model_params / all_model_params:.2f}%\"\n",
    "\n",
    "print(print_number_of_trainable_model_parameters(original_model))"
   ]
  },
  {
   "cell_type": "markdown",
   "metadata": {
    "tags": []
   },
   "source": [
    "<a name='1.3'></a>\n",
    "### 1.3 - Test the Model with Zero Shot Inferencing\n",
    "\n",
    "Test the model with the zero shot inferencing. You can see that the model struggles to summarize the dialogue compared to the baseline summary, but it does pull out some important information from the text which indicates the model can be fine-tuned to the task at hand."
   ]
  },
  {
   "cell_type": "code",
   "execution_count": 6,
   "metadata": {
    "tags": []
   },
   "outputs": [
    {
     "name": "stdout",
     "output_type": "stream",
     "text": [
      "---------------------------------------------------------------------------------------------------\n",
      "INPUT PROMPT:\n",
      "\n",
      "Summarize the following conversation.\n",
      "\n",
      "Abdellilah: Where are you?\n",
      "Sam: work\n",
      "Abdellilah: What time you finish?\n",
      "Sam: Not til 5\n",
      "Abdellilah: Are your bringing him over tonight:\n",
      "Sam: No in the morning:\n",
      "Abdellilah: ok, what time?\n",
      "Sam: About 9. Is that ok?\n",
      "Abdellilah: ok - see you then\n",
      "\n",
      "Summary:\n",
      "\n",
      "---------------------------------------------------------------------------------------------------\n",
      "BASELINE HUMAN SUMMARY:\n",
      "Sam won't finish work till 5. Sam is bringing him over about 9 am. Sam will see Abdellilah in the morning. \n",
      "\n",
      "---------------------------------------------------------------------------------------------------\n",
      "MODEL GENERATION - ZERO SHOT:\n",
      "Sam finishes work at 5 and will bring Abdellilah to work at about 9.\n"
     ]
    }
   ],
   "source": [
    "index = 200\n",
    "\n",
    "dialogue = dataset['test'][index]['dialogue']\n",
    "summary = dataset['test'][index]['summary']\n",
    "\n",
    "prompt = f\"\"\"\n",
    "Summarize the following conversation.\n",
    "\n",
    "{dialogue}\n",
    "\n",
    "Summary:\n",
    "\"\"\"\n",
    "\n",
    "inputs = tokenizer(prompt, return_tensors='pt').to(device)\n",
    "output = tokenizer.decode(\n",
    "    original_model.generate(\n",
    "        inputs[\"input_ids\"], \n",
    "        max_new_tokens=200,\n",
    "    )[0], \n",
    "    skip_special_tokens=True\n",
    ")\n",
    "\n",
    "dash_line = '-'.join('' for x in range(100))\n",
    "print(dash_line)\n",
    "print(f'INPUT PROMPT:\\n{prompt}')\n",
    "print(dash_line)\n",
    "print(f'BASELINE HUMAN SUMMARY:\\n{summary}\\n')\n",
    "print(dash_line)\n",
    "print(f'MODEL GENERATION - ZERO SHOT:\\n{output}')"
   ]
  },
  {
   "cell_type": "markdown",
   "metadata": {
    "tags": []
   },
   "source": [
    "<a name='2'></a>\n",
    "## 2 - Perform Full Fine-Tuning"
   ]
  },
  {
   "cell_type": "markdown",
   "metadata": {
    "tags": []
   },
   "source": [
    "<a name='2.1'></a>\n",
    "### 2.1 - Preprocess the Dialog-Summary Dataset\n",
    "\n",
    "You need to convert the dialog-summary (prompt-response) pairs into explicit instructions for the LLM. Prepend an instruction to the start of the dialog with `Summarize the following conversation` and to the start of the summary with `Summary` as follows:\n",
    "\n",
    "Training prompt (dialogue):\n",
    "```\n",
    "Summarize the following conversation.\n",
    "\n",
    "    Chris: This is his part of the conversation.\n",
    "    Antje: This is her part of the conversation.\n",
    "    \n",
    "Summary: \n",
    "```\n",
    "\n",
    "Training response (summary):\n",
    "```\n",
    "Both Chris and Antje participated in the conversation.\n",
    "```\n",
    "\n",
    "Then preprocess the prompt-response dataset into tokens and pull out their `input_ids` (1 per token)."
   ]
  },
  {
   "cell_type": "code",
   "execution_count": 7,
   "metadata": {
    "tags": []
   },
   "outputs": [
    {
     "data": {
      "application/json": {
       "ascii": false,
       "bar_format": null,
       "colour": null,
       "elapsed": 0.015291213989257812,
       "initial": 0,
       "n": 0,
       "ncols": null,
       "nrows": null,
       "postfix": null,
       "prefix": "Map",
       "rate": null,
       "total": 14732,
       "unit": " examples",
       "unit_divisor": 1000,
       "unit_scale": false
      },
      "application/vnd.jupyter.widget-view+json": {
       "model_id": "dc50c77b08bf4b2dbe67aa00ed3aac05",
       "version_major": 2,
       "version_minor": 0
      },
      "text/plain": [
       "Map:   0%|          | 0/14732 [00:00<?, ? examples/s]"
      ]
     },
     "metadata": {},
     "output_type": "display_data"
    },
    {
     "data": {
      "application/json": {
       "ascii": false,
       "bar_format": null,
       "colour": null,
       "elapsed": 0.014988899230957031,
       "initial": 0,
       "n": 0,
       "ncols": null,
       "nrows": null,
       "postfix": null,
       "prefix": "Map",
       "rate": null,
       "total": 819,
       "unit": " examples",
       "unit_divisor": 1000,
       "unit_scale": false
      },
      "application/vnd.jupyter.widget-view+json": {
       "model_id": "09531059ad2a4f2380a437ba14f670c5",
       "version_major": 2,
       "version_minor": 0
      },
      "text/plain": [
       "Map:   0%|          | 0/819 [00:00<?, ? examples/s]"
      ]
     },
     "metadata": {},
     "output_type": "display_data"
    },
    {
     "data": {
      "application/json": {
       "ascii": false,
       "bar_format": null,
       "colour": null,
       "elapsed": 0.015313148498535156,
       "initial": 0,
       "n": 0,
       "ncols": null,
       "nrows": null,
       "postfix": null,
       "prefix": "Map",
       "rate": null,
       "total": 818,
       "unit": " examples",
       "unit_divisor": 1000,
       "unit_scale": false
      },
      "application/vnd.jupyter.widget-view+json": {
       "model_id": "c565e1122fbf432792abae29831bf142",
       "version_major": 2,
       "version_minor": 0
      },
      "text/plain": [
       "Map:   0%|          | 0/818 [00:00<?, ? examples/s]"
      ]
     },
     "metadata": {},
     "output_type": "display_data"
    }
   ],
   "source": [
    "def tokenize_function(example):\n",
    "    start_prompt = 'Summarize the following conversation.\\n\\n'\n",
    "    end_prompt = '\\n\\nSummary: '\n",
    "    prompt = [start_prompt + dialogue + end_prompt for dialogue in example[\"dialogue\"]]\n",
    "    example['input_ids'] = tokenizer(prompt, padding=\"max_length\", truncation=True, return_tensors=\"pt\").input_ids\n",
    "    example['labels'] = tokenizer(example[\"summary\"], padding=\"max_length\", truncation=True, return_tensors=\"pt\").input_ids\n",
    "    \n",
    "    return example\n",
    "\n",
    "# The dataset actually contains 3 diff splits: train, validation, test.\n",
    "# The tokenize_function code is handling all data across all splits in batches.\n",
    "tokenized_datasets = dataset.map(tokenize_function, batched=True)\n",
    "tokenized_datasets = tokenized_datasets.remove_columns(['id', 'dialogue', 'summary',])"
   ]
  },
  {
   "cell_type": "markdown",
   "metadata": {
    "tags": []
   },
   "source": [
    "To save some time in the lab, you will subsample the dataset:"
   ]
  },
  {
   "cell_type": "markdown",
   "metadata": {
    "tags": []
   },
   "source": [
    "Check the shapes of all three parts of the dataset:"
   ]
  },
  {
   "cell_type": "code",
   "execution_count": 8,
   "metadata": {
    "tags": []
   },
   "outputs": [
    {
     "name": "stdout",
     "output_type": "stream",
     "text": [
      "Shapes of the datasets:\n",
      "Training: (14732, 2)\n",
      "Validation: (818, 2)\n",
      "Test: (819, 2)\n",
      "DatasetDict({\n",
      "    train: Dataset({\n",
      "        features: ['input_ids', 'labels'],\n",
      "        num_rows: 14732\n",
      "    })\n",
      "    test: Dataset({\n",
      "        features: ['input_ids', 'labels'],\n",
      "        num_rows: 819\n",
      "    })\n",
      "    validation: Dataset({\n",
      "        features: ['input_ids', 'labels'],\n",
      "        num_rows: 818\n",
      "    })\n",
      "})\n"
     ]
    }
   ],
   "source": [
    "print(f\"Shapes of the datasets:\")\n",
    "print(f\"Training: {tokenized_datasets['train'].shape}\")\n",
    "print(f\"Validation: {tokenized_datasets['validation'].shape}\")\n",
    "print(f\"Test: {tokenized_datasets['test'].shape}\")\n",
    "\n",
    "print(tokenized_datasets)"
   ]
  },
  {
   "cell_type": "markdown",
   "metadata": {},
   "source": [
    "The output dataset is ready for fine-tuning."
   ]
  },
  {
   "cell_type": "markdown",
   "metadata": {},
   "source": [
    "<a name='2.2'></a>\n",
    "### 2.2 - Fine-Tune the Model with the Preprocessed Dataset\n",
    "\n",
    "Now utilize the built-in Hugging Face `Trainer` class (see the documentation [here](https://huggingface.co/docs/transformers/main_classes/trainer)). Pass the preprocessed dataset with reference to the original model. Other training parameters are found experimentally and there is no need to go into details about those at the moment."
   ]
  },
  {
   "cell_type": "code",
   "execution_count": 9,
   "metadata": {
    "tags": []
   },
   "outputs": [],
   "source": [
    "output_dir = f'./dialogue-summary-training-{str(int(time.time()))}'\n",
    "\n",
    "training_args = TrainingArguments(\n",
    "    output_dir=output_dir,\n",
    "    per_device_train_batch_size=8,\n",
    "    per_device_eval_batch_size=8,\n",
    "    learning_rate=1e-5,\n",
    "    weight_decay=0.01,\n",
    "    num_train_epochs=2,\n",
    "    logging_steps=500,\n",
    "    eval_steps=500,\n",
    "    save_steps=500,\n",
    "    evaluation_strategy=\"steps\",\n",
    "    load_best_model_at_end=True\n",
    ")\n",
    "\n",
    "trainer = Trainer(\n",
    "    model=original_model,\n",
    "    args=training_args,\n",
    "    train_dataset=tokenized_datasets['train'],\n",
    "    eval_dataset=tokenized_datasets['validation']\n",
    ")"
   ]
  },
  {
   "cell_type": "markdown",
   "metadata": {
    "tags": []
   },
   "source": [
    "Start training process...\n",
    "\n",
    "It might take few minutes to run"
   ]
  },
  {
   "cell_type": "code",
   "execution_count": 10,
   "metadata": {
    "tags": []
   },
   "outputs": [
    {
     "name": "stderr",
     "output_type": "stream",
     "text": [
      "/home/dsp/miniconda3/lib/python3.9/site-packages/transformers/optimization.py:411: FutureWarning: This implementation of AdamW is deprecated and will be removed in a future version. Use the PyTorch implementation torch.optim.AdamW instead, or set `no_deprecation_warning=True` to disable this warning\n",
      "  warnings.warn(\n"
     ]
    },
    {
     "data": {
      "text/html": [
       "\n",
       "    <div>\n",
       "      \n",
       "      <progress value='3684' max='3684' style='width:300px; height:20px; vertical-align: middle;'></progress>\n",
       "      [3684/3684 36:14, Epoch 2/2]\n",
       "    </div>\n",
       "    <table border=\"1\" class=\"dataframe\">\n",
       "  <thead>\n",
       " <tr style=\"text-align: left;\">\n",
       "      <th>Step</th>\n",
       "      <th>Training Loss</th>\n",
       "      <th>Validation Loss</th>\n",
       "    </tr>\n",
       "  </thead>\n",
       "  <tbody>\n",
       "    <tr>\n",
       "      <td>500</td>\n",
       "      <td>39.117000</td>\n",
       "      <td>38.819073</td>\n",
       "    </tr>\n",
       "    <tr>\n",
       "      <td>1000</td>\n",
       "      <td>33.149300</td>\n",
       "      <td>36.078239</td>\n",
       "    </tr>\n",
       "    <tr>\n",
       "      <td>1500</td>\n",
       "      <td>31.993000</td>\n",
       "      <td>35.715771</td>\n",
       "    </tr>\n",
       "    <tr>\n",
       "      <td>2000</td>\n",
       "      <td>31.937000</td>\n",
       "      <td>35.691319</td>\n",
       "    </tr>\n",
       "    <tr>\n",
       "      <td>2500</td>\n",
       "      <td>31.890300</td>\n",
       "      <td>35.690708</td>\n",
       "    </tr>\n",
       "    <tr>\n",
       "      <td>3000</td>\n",
       "      <td>31.888000</td>\n",
       "      <td>35.683372</td>\n",
       "    </tr>\n",
       "    <tr>\n",
       "      <td>3500</td>\n",
       "      <td>31.877500</td>\n",
       "      <td>35.685818</td>\n",
       "    </tr>\n",
       "  </tbody>\n",
       "</table><p>"
      ],
      "text/plain": [
       "<IPython.core.display.HTML object>"
      ]
     },
     "metadata": {},
     "output_type": "display_data"
    },
    {
     "data": {
      "text/plain": [
       "TrainOutput(global_step=3684, training_loss=33.06504478827362, metrics={'train_runtime': 2176.0261, 'train_samples_per_second': 13.54, 'train_steps_per_second': 1.693, 'total_flos': 2.017569063252787e+16, 'train_loss': 33.06504478827362, 'epoch': 2.0})"
      ]
     },
     "execution_count": 10,
     "metadata": {},
     "output_type": "execute_result"
    }
   ],
   "source": [
    "trainer.train()"
   ]
  },
  {
   "cell_type": "markdown",
   "metadata": {},
   "source": [
    "Training a fully fine-tuned version of the model would take a few hours on a GPU. To save time, download a checkpoint of the fully fine-tuned model to use in the rest of this notebook. This fully fine-tuned model will also be referred to as the **instruct model** in this lab."
   ]
  },
  {
   "cell_type": "markdown",
   "metadata": {
    "tags": []
   },
   "source": [
    "Create an instance of the `AutoModelForSeq2SeqLM` class for the instruct model:"
   ]
  },
  {
   "cell_type": "code",
   "execution_count": 11,
   "metadata": {
    "tags": []
   },
   "outputs": [],
   "source": [
    "instruct_model = AutoModelForSeq2SeqLM.from_pretrained(\"./dialogue-summary-training-1695280355/checkpoint-3500\", torch_dtype=torch.bfloat16)"
   ]
  },
  {
   "cell_type": "markdown",
   "metadata": {},
   "source": [
    "<a name='2.3'></a>\n",
    "### 2.3 - Evaluate the Model Qualitatively (Human Evaluation)\n",
    "\n",
    "you can see how the fine-tuned model is able to create a reasonable summary of the dialogue compared to the original inability to understand what is being asked of the model."
   ]
  },
  {
   "cell_type": "code",
   "execution_count": 12,
   "metadata": {
    "tags": []
   },
   "outputs": [
    {
     "name": "stderr",
     "output_type": "stream",
     "text": [
      "Token indices sequence length is longer than the specified maximum sequence length for this model (603 > 512). Running this sequence through the model will result in indexing errors\n"
     ]
    },
    {
     "name": "stdout",
     "output_type": "stream",
     "text": [
      "cuda\n",
      "---------------------------------------------------------------------------------------------------\n",
      "BASELINE HUMAN SUMMARY:\n",
      "Beth wants to organize a girls weekend to celebrate her mother's 40th birthday. She also wants to work at Deidre's beauty salon. Deidre offers her a few hours on Saturdays as work experience. They set up for a meeting tomorrow.\n",
      "---------------------------------------------------------------------------------------------------\n",
      "ORIGINAL MODEL:\n",
      "Beth wants to do a girls weekend with Kira and the girls. Deirdre wants to ask Beth about her mum's 40th birthday. Beth wants to try out the beauty therapist. Deirdre wants to meet Beth tomorrow after school.\n",
      "---------------------------------------------------------------------------------------------------\n",
      "INSTRUCT MODEL:\n",
      "Beth's mother's 40th birthday is in 6 weeks. Deirdre is looking for Saturday girls. Beth wants to try a bit of work experience in the salon. Deirdre is looking for Saturday girls. Beth is 16 and wants to try the beauty therapy. Deirdre will give Beth a tenner per session.\n"
     ]
    }
   ],
   "source": [
    "index = 20\n",
    "dialogue = dataset['test'][index]['dialogue']\n",
    "human_baseline_summary = dataset['test'][index]['summary']\n",
    "\n",
    "prompt = f\"\"\"\n",
    "Summarize the following conversation.\n",
    "\n",
    "{dialogue}\n",
    "\n",
    "Summary:\n",
    "\"\"\"\n",
    "print(device)\n",
    "input_ids = tokenizer(prompt, return_tensors=\"pt\").input_ids.to(device)\n",
    "original_model.cuda()\n",
    "instruct_model.cuda()\n",
    "\n",
    "original_model_outputs = original_model.generate(input_ids=input_ids, generation_config=GenerationConfig(max_new_tokens=200, num_beams=1))\n",
    "original_model_text_output = tokenizer.decode(original_model_outputs[0], skip_special_tokens=True)\n",
    "\n",
    "instruct_model_outputs = instruct_model.generate(input_ids=input_ids, generation_config=GenerationConfig(max_new_tokens=200, num_beams=1))\n",
    "instruct_model_text_output = tokenizer.decode(instruct_model_outputs[0], skip_special_tokens=True)\n",
    "\n",
    "print(dash_line)\n",
    "print(f'BASELINE HUMAN SUMMARY:\\n{human_baseline_summary}')\n",
    "print(dash_line)\n",
    "print(f'ORIGINAL MODEL:\\n{original_model_text_output}')\n",
    "print(dash_line)\n",
    "print(f'INSTRUCT MODEL:\\n{instruct_model_text_output}')"
   ]
  },
  {
   "cell_type": "markdown",
   "metadata": {},
   "source": [
    "<a name='2.4'></a>\n",
    "### 2.4 - Evaluate the Model Quantitatively (with ROUGE Metric)\n",
    "\n",
    "The [ROUGE metric](https://en.wikipedia.org/wiki/ROUGE_(metric)) helps quantify the validity of summarizations produced by models. It compares summarizations to a \"baseline\" summary which is usually created by a human. While not perfect, it does indicate the overall increase in summarization effectiveness that we have accomplished by fine-tuning."
   ]
  },
  {
   "cell_type": "code",
   "execution_count": 13,
   "metadata": {
    "tags": []
   },
   "outputs": [
    {
     "data": {
      "application/json": {
       "ascii": false,
       "bar_format": null,
       "colour": null,
       "elapsed": 0.015148401260375977,
       "initial": 0,
       "n": 0,
       "ncols": null,
       "nrows": null,
       "postfix": null,
       "prefix": "Downloading builder script",
       "rate": null,
       "total": 6270,
       "unit": "B",
       "unit_divisor": 1000,
       "unit_scale": true
      },
      "application/vnd.jupyter.widget-view+json": {
       "model_id": "2d6b797ab97d494683a2c1446aa6ebb7",
       "version_major": 2,
       "version_minor": 0
      },
      "text/plain": [
       "Downloading builder script:   0%|          | 0.00/6.27k [00:00<?, ?B/s]"
      ]
     },
     "metadata": {},
     "output_type": "display_data"
    }
   ],
   "source": [
    "rouge = evaluate.load('rouge')"
   ]
  },
  {
   "cell_type": "markdown",
   "metadata": {},
   "source": [
    "Generate the outputs for the sample of the test dataset (only 10 dialogues and summaries to save time), and save the results."
   ]
  },
  {
   "cell_type": "code",
   "execution_count": 14,
   "metadata": {
    "tags": []
   },
   "outputs": [],
   "source": [
    "dialogues = dataset['test']['dialogue']\n",
    "\n",
    "original_model_summaries = []\n",
    "instruct_model_summaries = []\n",
    "\n",
    "for _, dialogue in enumerate(dialogues):\n",
    "    prompt = f\"\"\"\n",
    "Summarize the following conversation.\n",
    "\n",
    "{dialogue}\n",
    "\n",
    "Summary: \"\"\"\n",
    "    input_ids = tokenizer(prompt, return_tensors=\"pt\").input_ids.to(device)\n",
    "\n",
    "    original_model_outputs = original_model.generate(input_ids=input_ids, generation_config=GenerationConfig(max_new_tokens=200))\n",
    "    original_model_text_output = tokenizer.decode(original_model_outputs[0], skip_special_tokens=True)\n",
    "    original_model_summaries.append(original_model_text_output)\n",
    "\n",
    "    instruct_model_outputs = instruct_model.generate(input_ids=input_ids, generation_config=GenerationConfig(max_new_tokens=200))\n",
    "    instruct_model_text_output = tokenizer.decode(instruct_model_outputs[0], skip_special_tokens=True)\n",
    "    instruct_model_summaries.append(instruct_model_text_output)"
   ]
  },
  {
   "cell_type": "code",
   "execution_count": 16,
   "metadata": {},
   "outputs": [
    {
     "data": {
      "text/html": [
       "<div>\n",
       "<style scoped>\n",
       "    .dataframe tbody tr th:only-of-type {\n",
       "        vertical-align: middle;\n",
       "    }\n",
       "\n",
       "    .dataframe tbody tr th {\n",
       "        vertical-align: top;\n",
       "    }\n",
       "\n",
       "    .dataframe thead th {\n",
       "        text-align: right;\n",
       "    }\n",
       "</style>\n",
       "<table border=\"1\" class=\"dataframe\">\n",
       "  <thead>\n",
       "    <tr style=\"text-align: right;\">\n",
       "      <th></th>\n",
       "      <th>human_baseline_summaries</th>\n",
       "      <th>original_model_summaries</th>\n",
       "      <th>instruct_model_summaries</th>\n",
       "    </tr>\n",
       "  </thead>\n",
       "  <tbody>\n",
       "    <tr>\n",
       "      <th>0</th>\n",
       "      <td>Hannah needs Betty's number but Amanda doesn't have it. She needs to contact Larry.</td>\n",
       "      <td>Hannah wants to know Betty's number. Amanda can't find it. Amanda asks Larry Larry if Betty's phone number is the same.</td>\n",
       "      <td>Amanda can't find Betty's number. Amanda will ask Larry.</td>\n",
       "    </tr>\n",
       "    <tr>\n",
       "      <th>1</th>\n",
       "      <td>Eric and Rob are going to watch a stand-up on youtube.</td>\n",
       "      <td>Eric and Rob are watching a train video.</td>\n",
       "      <td>Eric and Rob are watching a stand-up. Eric and Rob will watch some of his stand-ups on youtube.</td>\n",
       "    </tr>\n",
       "    <tr>\n",
       "      <th>2</th>\n",
       "      <td>Lenny can't decide which trousers to buy. Bob advised Lenny on that topic. Lenny goes with Bob's advice to pick the trousers that are of best quality.</td>\n",
       "      <td>Lenny will buy the third pair of trousers from Bob.</td>\n",
       "      <td>Lenny wants to buy two pairs of black trousers. Bob recommends the first pair.</td>\n",
       "    </tr>\n",
       "    <tr>\n",
       "      <th>3</th>\n",
       "      <td>Emma will be home soon and she will let Will know.</td>\n",
       "      <td>Emma will be home soon. Will will pick her up.</td>\n",
       "      <td>Emma will be home soon. Will will pick her up.</td>\n",
       "    </tr>\n",
       "    <tr>\n",
       "      <th>4</th>\n",
       "      <td>Jane is in Warsaw. Ollie and Jane has a party. Jane lost her calendar. They will get a lunch this week on Friday. Ollie accidentally called Jane and talked about whisky. Jane cancels lunch. They'll meet for a tea at 6 pm.</td>\n",
       "      <td>Jane is in Warsaw. Ollie reminds Jane that they have a party on Friday. Jane lost her calendar. Ollie reminds Jane that she has lost it. Jane is in Morocco. Jane is busy. Ollie is going to bring some sun with Jane. Jane is busy. Jane is on her way. Jane is going to bring some tea. Ollie is on her way. Jane is on her way. Ollie will bring some pastries. Jane is on her way. Jane is on her way. Jane is on her way.</td>\n",
       "      <td>Jane lost her calendar. Ollie and Jane have lunch on Friday. Jane will be in Morocco at 6 pm. Ollie will bring pastries.</td>\n",
       "    </tr>\n",
       "    <tr>\n",
       "      <th>5</th>\n",
       "      <td>Hilary has the keys to the apartment. Benjamin wants to get them and go take a nap. Hilary is having lunch with some French people at La Cantina. Hilary is meeting them at the entrance to the conference hall at 2 pm. Benjamin and Elliot might join them. They're meeting for the drinks in the evening.</td>\n",
       "      <td>Hilary, Elliot and Benjamin are meeting for drinks in the evening. Hilary and Hilary are meeting at the entrance to the conference hall. Hilary will meet with the French people at La Cantina. Hilary and Benjamin will have lunch together. Hilary and Hilary will meet for a nap.</td>\n",
       "      <td>Hilary and Elliot are meeting at the conference hall at 2 pm. Hilary will meet them at the entrance to the conference hall at 2 pm. Hilary will meet them at La Cantina. Hilary will take the keys and take a nap.</td>\n",
       "    </tr>\n",
       "    <tr>\n",
       "      <th>6</th>\n",
       "      <td>Payton provides Max with websites selling clothes. Payton likes browsing and trying on the clothes but not necessarily buying them. Payton usually buys clothes and books as he loves reading.</td>\n",
       "      <td>Payton usually buys clothes from 2 or 3 of them. Max will check them out.</td>\n",
       "      <td>Payton likes to browse and try on clothes. Max will check out the websites.</td>\n",
       "    </tr>\n",
       "    <tr>\n",
       "      <th>7</th>\n",
       "      <td>Rita and Tina are bored at work and have still 4 hours left.</td>\n",
       "      <td>Rita is tired and bored at work.</td>\n",
       "      <td>Rita is tired and is not able to concentrate at work.</td>\n",
       "    </tr>\n",
       "    <tr>\n",
       "      <th>8</th>\n",
       "      <td>Beatrice wants to buy Leo a scarf, but he doesn't like scarves. She cares about his health and will buy him a scarf no matter his opinion.</td>\n",
       "      <td>Beatrice is in town, and she's looking for a scarf for Leo.</td>\n",
       "      <td>Beatrice is in town, shopping. She has a scarf in the shop next to the church. Leo doesn't like them.</td>\n",
       "    </tr>\n",
       "    <tr>\n",
       "      <th>9</th>\n",
       "      <td>Eric doesn't know if his parents let him go to Ivan's brother's wedding. Ivan will talk to them.</td>\n",
       "      <td>Eric is coming to Eric's brother's wedding. Ivan will take care of his parents.</td>\n",
       "      <td>Eric is coming to Ivan's brother's wedding. Eric has a lot of work at home. Eric will talk to Ivan's parents.</td>\n",
       "    </tr>\n",
       "    <tr>\n",
       "      <th>10</th>\n",
       "      <td>Wanda wants to throw a party. She asks Gina to borrow her father's car and go do groceries together. They set the date for Friday.</td>\n",
       "      <td>Wanda and Gina are going to have a party on Friday. Wanda will take Gina's father's car and go to a grocery store. Gina will ask Wanda to go with Gina.</td>\n",
       "      <td>Wanda and Gina are going to make a party on Friday.</td>\n",
       "    </tr>\n",
       "    <tr>\n",
       "      <th>11</th>\n",
       "      <td>Martin wrote a short review and won 2 cinema tickets on FB. Martin wants Aggie to go with him this week for the new film with Redford.</td>\n",
       "      <td>Martin got tickets to see the new film with Redford at the end of the week.</td>\n",
       "      <td>Martin won two cinema tickets online. He wrote a short review on Facebook and will see the new film with Redford at the end of the week.</td>\n",
       "    </tr>\n",
       "    <tr>\n",
       "      <th>12</th>\n",
       "      <td>Charlee is attending Portuguese theater as a subject at university. He and other students are preparing a play by Mrożek translated into Portuguese.</td>\n",
       "      <td>Charlee is in class. Charlee is in class.</td>\n",
       "      <td>Charlee is in class. She is preparing a performance in Portuguese.</td>\n",
       "    </tr>\n",
       "    <tr>\n",
       "      <th>13</th>\n",
       "      <td>Ella rented a car, this makes things much faster for her and Tom.</td>\n",
       "      <td>Ella rented a car.</td>\n",
       "      <td>Ella rented a car.</td>\n",
       "    </tr>\n",
       "    <tr>\n",
       "      <th>14</th>\n",
       "      <td>Paul is going to share his Netflix account with Luke. In exchange Luke is going to contribute to the subscription. Paul will send Luke his bank details. Paul is on vacation with his girlfriend till tomorrow.</td>\n",
       "      <td>Paul will send Luke the login and password on Saturday. Paul will send Luke the bank account details tomorrow. Paul is on holidays with his girlfriend.</td>\n",
       "      <td>Paul is looking for a new Netflix member. Luke will send Paul the login and password on Sunday. Paul will send Luke the bank account details. Paul is paying for the subscription.</td>\n",
       "    </tr>\n",
       "    <tr>\n",
       "      <th>15</th>\n",
       "      <td>Greg and Betsy have a lot of work today, so they cannot pick up Johnny from the kindergarten. However, it's Greg's turn to do it. Greg will try to find a solution.</td>\n",
       "      <td>Greg is ill and needs to stay after hours.</td>\n",
       "      <td>Greg needs to stay after hours. Betsy can't pick up Johnny.</td>\n",
       "    </tr>\n",
       "    <tr>\n",
       "      <th>16</th>\n",
       "      <td>Ethan, Toby and Marshall are making fun of Scott.</td>\n",
       "      <td>Ethan and Marshall are making fun of each other.</td>\n",
       "      <td>Ethan and Toby are making fun of Scott.</td>\n",
       "    </tr>\n",
       "    <tr>\n",
       "      <th>17</th>\n",
       "      <td>Igor has a lot of work on his notice period and he feels demotivated. John thinks he should do what he has to do nevertheless.</td>\n",
       "      <td>Igor is demotivated at work.</td>\n",
       "      <td>Igor has a lot of work to do at work. John advises Igor to stop thinking and start doing.</td>\n",
       "    </tr>\n",
       "    <tr>\n",
       "      <th>18</th>\n",
       "      <td>Clara is rewatching Dear White People and strongly recommends it to Neela.</td>\n",
       "      <td>Neela is watching Dear White People on Netflix. Clara recommends it.</td>\n",
       "      <td>Neela is watching Dear White People on Netflix. Clara recommends it.</td>\n",
       "    </tr>\n",
       "    <tr>\n",
       "      <th>19</th>\n",
       "      <td>Mike took his car into garage today. Ernest is relieved as someone had just crashed into a red Honda which looks like Mike's.</td>\n",
       "      <td>Mike took his car into the garage today. He's looking like a car.</td>\n",
       "      <td>Mike's car crashed into a red Honda looking like Ernest's.</td>\n",
       "    </tr>\n",
       "    <tr>\n",
       "      <th>20</th>\n",
       "      <td>Beth wants to organize a girls weekend to celebrate her mother's 40th birthday. She also wants to work at Deidre's beauty salon. Deidre offers her a few hours on Saturdays as work experience. They set up for a meeting tomorrow.</td>\n",
       "      <td>Beth's mum's 40th birthday. Deirdre and Kira had a surprise party for her. Beth is doing work experience at the salon. Deirdre invites Beth to a salon on Saturday. Beth will try the beauty therapy.</td>\n",
       "      <td>Beth's mother's 40th birthday is in 6 weeks. Deirdre is looking for Saturday girls. Beth wants to try a bit of work experience in the salon. Deirdre is looking for Saturday girls. Beth is 16 and wants to try the beauty therapy. Deirdre will give Beth a tenner per session.</td>\n",
       "    </tr>\n",
       "    <tr>\n",
       "      <th>21</th>\n",
       "      <td>Gloria has an exam soon. It lasts 4 hours. Emma sent her a link to a website with some texts from previous years so that she can prepare for the exam better.</td>\n",
       "      <td>Gloria is going to take a test for her English course.</td>\n",
       "      <td>Gloria and Emma are going to take the exam. They are going to read some texts from previous years.</td>\n",
       "    </tr>\n",
       "    <tr>\n",
       "      <th>22</th>\n",
       "      <td>Adam and Karen are worried that May suffers from depression. Karen will call her friend who is a psychologist and ask for advice.</td>\n",
       "      <td>Karen and Adam talked about May and their concerns about her. Karen's friend recommends seeing a psychiatrist.</td>\n",
       "      <td>May is depressed and doesn't want to go out for a beer. Karen suggests a specialist but she's not happy about it. Karen will call a psychologist.</td>\n",
       "    </tr>\n",
       "    <tr>\n",
       "      <th>23</th>\n",
       "      <td>Mark lied to Anne about his age. Mark is 40.</td>\n",
       "      <td>Anne is worried about Mark.</td>\n",
       "      <td>Anne is angry because Mark told her he's 30 and he's 40.</td>\n",
       "    </tr>\n",
       "    <tr>\n",
       "      <th>24</th>\n",
       "      <td>Next week is Wharton's birthday. Augustine, Darlene, Heather and Walker want to buy him a paper shredder. Walker will make sure if Wharton really wants it.</td>\n",
       "      <td>Wharton's birthday is next week. They are going to the party to get office equipment.</td>\n",
       "      <td>Wharton's birthday is next week. They need to buy him a present. They will ask him twice.</td>\n",
       "    </tr>\n",
       "    <tr>\n",
       "      <th>25</th>\n",
       "      <td>Kelly is scared of sculpture garden figures in Finnland, she finds figure's faces morbid. For Ollie it's Nagoro village in Japan, it's creepy.</td>\n",
       "      <td>Ollie and Mickey are talking about a sculpture garden in Finnland. Ollie's place is Nagoro village in Japan.</td>\n",
       "      <td>Kelly's place is in a sculpture garden in Finnland. Ollie and Mickey are scared of the sculptures.</td>\n",
       "    </tr>\n",
       "    <tr>\n",
       "      <th>26</th>\n",
       "      <td>Selah called a person that did not pick up.</td>\n",
       "      <td>I can't see the phone number.</td>\n",
       "      <td>Myah can't see the phone number of the person.</td>\n",
       "    </tr>\n",
       "    <tr>\n",
       "      <th>27</th>\n",
       "      <td>Bella and Eric dismissed a request of a client. Their boss appreciated the decision. He brings in new clients.</td>\n",
       "      <td>The boss's office was angry with the client's decision. He reacted positively.</td>\n",
       "      <td>The boss appreciated the decision to dismiss the request of a client.</td>\n",
       "    </tr>\n",
       "    <tr>\n",
       "      <th>28</th>\n",
       "      <td>Emma is about to take a nap in the back of the bus to New York. Ben and Emma will be there around 4.30 pm. Ben will wake Emma up 15 minutes prior to their arrival.</td>\n",
       "      <td>Emma is on the bus. She's going to arrive to New York around 4.30 PM. Ben will try to wake her up around 4.15.</td>\n",
       "      <td>Emma is at the rare bus. She will take a nap in the free seats. They are going to arrive to NY around 4.30 PM. Ben will wake her up around 4.15.</td>\n",
       "    </tr>\n",
       "    <tr>\n",
       "      <th>29</th>\n",
       "      <td>Jesse, Melvin, Lee and Maxine are going to take part in the Christmas charity action of the foundation called Refuge, which helps women and children who escape from abuse.</td>\n",
       "      <td>Jesse is thinking about putting in presents for the poor. He is going to do something this year. Melvin, Lee and Maxine are going to do it.</td>\n",
       "      <td>Jesse and Melvin are going to do something for the less fortunate this year. They are going to chip in to the Christmas charity, the Refuge.</td>\n",
       "    </tr>\n",
       "    <tr>\n",
       "      <th>30</th>\n",
       "      <td>Mary ran out of money. Carter is going to lend her some in an hour.</td>\n",
       "      <td>Carter will lend some boxes to Mary.</td>\n",
       "      <td>Carter will lend Mary some boxes.</td>\n",
       "    </tr>\n",
       "    <tr>\n",
       "      <th>31</th>\n",
       "      <td>Paula helped Charlotte with correct pronunciation of \"Natal lily\".</td>\n",
       "      <td>Charlotte is asking Paula how to pronounce 'Natal lily'.</td>\n",
       "      <td>Paula is asking Charlotte how to pronounce 'Natal lily'.</td>\n",
       "    </tr>\n",
       "    <tr>\n",
       "      <th>32</th>\n",
       "      <td>Jack and May will drink cocktails later.</td>\n",
       "      <td>Jack and May are going to drink a little more whiskey.</td>\n",
       "      <td>Jack and May are going to have cocktails later.</td>\n",
       "    </tr>\n",
       "    <tr>\n",
       "      <th>33</th>\n",
       "      <td>Margaret is suffering from a terrible headache and wants Jack to buy her some painkillers.</td>\n",
       "      <td>Margaret is having a terrible headache.</td>\n",
       "      <td>Margaret is having a headache. Jack advises her to rest.</td>\n",
       "    </tr>\n",
       "    <tr>\n",
       "      <th>34</th>\n",
       "      <td>Serge is on his way to pick up the film equipment for the shooting tonight. Andrei and Serge are late with a large payment to the company. Serge and Andrei will try to use the credit card to pay the company.</td>\n",
       "      <td>Andrei and Serge are going to pick up the film equipment for tomorrow's shooting.</td>\n",
       "      <td>Serge picked up the film equipment for tonight's shooting. He has an outstanding bill to pay with the company. He will let Andrei know if it works out.</td>\n",
       "    </tr>\n",
       "    <tr>\n",
       "      <th>35</th>\n",
       "      <td>Martina advises against getting a hamster.</td>\n",
       "      <td>Janice wants Martina to get her son a hamster for his birthday. Martina has already done so.</td>\n",
       "      <td>Janice doesn't want to get her son a hamster. Martina has one for her son.</td>\n",
       "    </tr>\n",
       "    <tr>\n",
       "      <th>36</th>\n",
       "      <td>Mary has played DA Inquisition. Lucas has played DA II. Daniel started playing DA Inquisition.</td>\n",
       "      <td>Daniel and Lucas are playing Inquisition.</td>\n",
       "      <td>Daniel and Mary are playing DA II. Lucas and Mary play DA II.</td>\n",
       "    </tr>\n",
       "    <tr>\n",
       "      <th>37</th>\n",
       "      <td>Judy thinks she's always attracted to bad guys.</td>\n",
       "      <td>Judy is attracted to jerks. Janice finds Andrew a jerk.</td>\n",
       "      <td>Judy is attracted to jerks. Bruce is not a jerk.</td>\n",
       "    </tr>\n",
       "    <tr>\n",
       "      <th>38</th>\n",
       "      <td>Riley and James watch Chloe on tv undergoing a metamorphosis.</td>\n",
       "      <td>Chloe is on TV.</td>\n",
       "      <td>Chloe is on TV.</td>\n",
       "    </tr>\n",
       "    <tr>\n",
       "      <th>39</th>\n",
       "      <td>Tina will catch the evening flight back home. Ala is on her way to the meeting. She will let Tina know how it went.</td>\n",
       "      <td>Tina and Ala are on the plane. Ala is on the phone.</td>\n",
       "      <td>Tina is impressed by the Emirate staff. Ala is on her way to a meeting.</td>\n",
       "    </tr>\n",
       "    <tr>\n",
       "      <th>40</th>\n",
       "      <td>Sebastian is very happy with his life, and shares this happiness with Kevin.</td>\n",
       "      <td>Sebastian has been a year since moving to a new place. Kevin is happy to hear that he has been satisfied with his decisions.</td>\n",
       "      <td>Sebastian has been living in the same place for a year. He has learned more than he has ever before. Kevin wants to win lottery.</td>\n",
       "    </tr>\n",
       "    <tr>\n",
       "      <th>41</th>\n",
       "      <td>Son is coming to see his parents' this weekend.</td>\n",
       "      <td>Son will come to Frank's mother this weekend.</td>\n",
       "      <td>Son will come home this weekend.</td>\n",
       "    </tr>\n",
       "    <tr>\n",
       "      <th>42</th>\n",
       "      <td>Ola is in Cuba and is enjoying her trip. She has problems with connectivity there. Momo has recovered from her injury. Ola doesn't like the clothes in Cuba. Ola will try to find a blouse for mum in Cuba, as Kate suggested.</td>\n",
       "      <td>Ola and Kate are doing well in Cuba. Momo has recovered from her injury and is recovering. Kate is trying to find a new blouse for her. Ola is going to try to find a similar one from Laos. Kate is going to look for a similar one from Laos.</td>\n",
       "      <td>Ola is in Cuba. Momo is recovering from a bad injury. Ola's scarf is from Laos. Momo's blouse is cheap and not authentic. Ola will try to find a Cuban blouse.</td>\n",
       "    </tr>\n",
       "    <tr>\n",
       "      <th>43</th>\n",
       "      <td>Mike will ask Mary for John's new number.</td>\n",
       "      <td>Mary has John's new number.</td>\n",
       "      <td>Ann doesn't have John's number. Mike should ask Mary.</td>\n",
       "    </tr>\n",
       "    <tr>\n",
       "      <th>44</th>\n",
       "      <td>Joseph has sent Ella a photo of Wujek Janek's twin baby cows. Ella is delighted.</td>\n",
       "      <td>Ella and Wujek Janek have tween cows.</td>\n",
       "      <td>Wujek Janek has tween cows. Ella wants to touch them.</td>\n",
       "    </tr>\n",
       "    <tr>\n",
       "      <th>45</th>\n",
       "      <td>Josh thinks Stephen accidentally took his notebook. Jack has it and will bring it tomorrow.</td>\n",
       "      <td>Jack has taken his notebook home.</td>\n",
       "      <td>Jack has taken Josh's notebook home.</td>\n",
       "    </tr>\n",
       "    <tr>\n",
       "      <th>46</th>\n",
       "      <td>Adele got a new biscuit Labrador Chewy that is 4 months. Her cats keep their distance, and Poppy and Lulu seem to mother Chewy and Speedy wants to play.</td>\n",
       "      <td>Adele got a new puppy. Adele took them in as she took them as she took them in as adult dogs.</td>\n",
       "      <td>Adele got a new dog. She adopted a biscuit lab 4 months ago.</td>\n",
       "    </tr>\n",
       "    <tr>\n",
       "      <th>47</th>\n",
       "      <td>Kristian and Tabora are playing a game about what they like best.</td>\n",
       "      <td>Kristian is going to the cinema to see \"Batman\" and \"Superman\" and \"Supergirl\" and \"Supergirl\" and \"Superman\" and \"Superman\" and \"Superman\" and \"Supergirl\" and \"Superman\" and \"Supergirl\" and \"Superman\" and \"Supergirl\" and \"Superman\" and \"Superman\" and \"Supergirl\" and \"Superman\" and \"Supergirl\" and \"Superman\" and \"Superman\" and \"Superman\" and \"Superman\" and \"Supergirl\" and \"Superman\" and \"Superman\" and \"Supergirl\" and \"Superman\" and \"Superman\" and \"Superman\" and \"Supergirl\" and \"Superman\" and \"Superman\" and \"Superman\" and \"Supergirl\" and \"Superman\" and \"Superman\" and \"Superman\" and \"Supergirl\" and \"Superman\" and</td>\n",
       "      <td>Kristian, Tabora and Batman are playing games.</td>\n",
       "    </tr>\n",
       "    <tr>\n",
       "      <th>48</th>\n",
       "      <td>Cathy will pick up her glasses tonight at 10.</td>\n",
       "      <td>Cathy is going to pick up her sunglasses at Broke's.</td>\n",
       "      <td>Cathy left her sunglasses at Broke's. She will come round at 10 tonight.</td>\n",
       "    </tr>\n",
       "    <tr>\n",
       "      <th>49</th>\n",
       "      <td>Petra is very sleepy at work today, Andy finds the day boring, and Ezgi is working.</td>\n",
       "      <td>Petra is tired. She's not working at the office. Andy and Petra are tired.</td>\n",
       "      <td>Petra is sleepy. Ezgi is working.</td>\n",
       "    </tr>\n",
       "  </tbody>\n",
       "</table>\n",
       "</div>"
      ],
      "text/plain": [
       "                                                                                                                                                                                                                                                                                        human_baseline_summaries  \\\n",
       "0                                                                                                                                                                                                                            Hannah needs Betty's number but Amanda doesn't have it. She needs to contact Larry.   \n",
       "1                                                                                                                                                                                                                                                         Eric and Rob are going to watch a stand-up on youtube.   \n",
       "2                                                                                                                                                         Lenny can't decide which trousers to buy. Bob advised Lenny on that topic. Lenny goes with Bob's advice to pick the trousers that are of best quality.   \n",
       "3                                                                                                                                                                                                                                                             Emma will be home soon and she will let Will know.   \n",
       "4                                                                                  Jane is in Warsaw. Ollie and Jane has a party. Jane lost her calendar. They will get a lunch this week on Friday. Ollie accidentally called Jane and talked about whisky. Jane cancels lunch. They'll meet for a tea at 6 pm.   \n",
       "5   Hilary has the keys to the apartment. Benjamin wants to get them and go take a nap. Hilary is having lunch with some French people at La Cantina. Hilary is meeting them at the entrance to the conference hall at 2 pm. Benjamin and Elliot might join them. They're meeting for the drinks in the evening.   \n",
       "6                                                                                                                 Payton provides Max with websites selling clothes. Payton likes browsing and trying on the clothes but not necessarily buying them. Payton usually buys clothes and books as he loves reading.   \n",
       "7                                                                                                                                                                                                                                                   Rita and Tina are bored at work and have still 4 hours left.   \n",
       "8                                                                                                                                                                     Beatrice wants to buy Leo a scarf, but he doesn't like scarves. She cares about his health and will buy him a scarf no matter his opinion.   \n",
       "9                                                                                                                                                                                                               Eric doesn't know if his parents let him go to Ivan's brother's wedding. Ivan will talk to them.   \n",
       "10                                                                                                                                                                           Wanda wants to throw a party. She asks Gina to borrow her father's car and go do groceries together. They set the date for Friday.    \n",
       "11                                                                                                                                                                        Martin wrote a short review and won 2 cinema tickets on FB. Martin wants Aggie to go with him this week for the new film with Redford.   \n",
       "12                                                                                                                                                          Charlee is attending Portuguese theater as a subject at university. He and other students are preparing a play by Mrożek translated into Portuguese.   \n",
       "13                                                                                                                                                                                                                                            Ella rented a car, this makes things much faster for her and Tom.    \n",
       "14                                                                                               Paul is going to share his Netflix account with Luke. In exchange Luke is going to contribute to the subscription. Paul will send Luke his bank details. Paul is on vacation with his girlfriend till tomorrow.   \n",
       "15                                                                                                                                           Greg and Betsy have a lot of work today, so they cannot pick up Johnny from the kindergarten. However, it's Greg's turn to do it. Greg will try to find a solution.   \n",
       "16                                                                                                                                                                                                                                                             Ethan, Toby and Marshall are making fun of Scott.   \n",
       "17                                                                                                                                                                               Igor has a lot of work on his notice period and he feels demotivated. John thinks he should do what he has to do nevertheless.    \n",
       "18                                                                                                                                                                                                                                    Clara is rewatching Dear White People and strongly recommends it to Neela.   \n",
       "19                                                                                                                                                                                Mike took his car into garage today. Ernest is relieved as someone had just crashed into a red Honda which looks like Mike's.    \n",
       "20                                                                           Beth wants to organize a girls weekend to celebrate her mother's 40th birthday. She also wants to work at Deidre's beauty salon. Deidre offers her a few hours on Saturdays as work experience. They set up for a meeting tomorrow.   \n",
       "21                                                                                                                                                 Gloria has an exam soon. It lasts 4 hours. Emma sent her a link to a website with some texts from previous years so that she can prepare for the exam better.   \n",
       "22                                                                                                                                                                            Adam and Karen are worried that May suffers from depression. Karen will call her friend who is a psychologist and ask for advice.    \n",
       "23                                                                                                                                                                                                                                                                  Mark lied to Anne about his age. Mark is 40.   \n",
       "24                                                                                                                                                  Next week is Wharton's birthday. Augustine, Darlene, Heather and Walker want to buy him a paper shredder. Walker will make sure if Wharton really wants it.    \n",
       "25                                                                                                                                                               Kelly is scared of sculpture garden figures in Finnland, she finds figure's faces morbid. For Ollie it's Nagoro village in Japan, it's creepy.    \n",
       "26                                                                                                                                                                                                                                                                   Selah called a person that did not pick up.   \n",
       "27                                                                                                                                                                                                Bella and Eric dismissed a request of a client. Their boss appreciated the decision. He brings in new clients.   \n",
       "28                                                                                                                                           Emma is about to take a nap in the back of the bus to New York. Ben and Emma will be there around 4.30 pm. Ben will wake Emma up 15 minutes prior to their arrival.   \n",
       "29                                                                                                                                   Jesse, Melvin, Lee and Maxine are going to take part in the Christmas charity action of the foundation called Refuge, which helps women and children who escape from abuse.   \n",
       "30                                                                                                                                                                                                                                           Mary ran out of money. Carter is going to lend her some in an hour.   \n",
       "31                                                                                                                                                                                                                                            Paula helped Charlotte with correct pronunciation of \"Natal lily\".   \n",
       "32                                                                                                                                                                                                                                                                      Jack and May will drink cocktails later.   \n",
       "33                                                                                                                                                                                                                   Margaret is suffering from a terrible headache and wants Jack to buy her some painkillers.    \n",
       "34                                                                                               Serge is on his way to pick up the film equipment for the shooting tonight. Andrei and Serge are late with a large payment to the company. Serge and Andrei will try to use the credit card to pay the company.   \n",
       "35                                                                                                                                                                                                                                                                   Martina advises against getting a hamster.    \n",
       "36                                                                                                                                                                                                                Mary has played DA Inquisition. Lucas has played DA II. Daniel started playing DA Inquisition.   \n",
       "37                                                                                                                                                                                                                                                               Judy thinks she's always attracted to bad guys.   \n",
       "38                                                                                                                                                                                                                                                 Riley and James watch Chloe on tv undergoing a metamorphosis.   \n",
       "39                                                                                                                                                                                           Tina will catch the evening flight back home. Ala is on her way to the meeting. She will let Tina know how it went.   \n",
       "40                                                                                                                                                                                                                                  Sebastian is very happy with his life, and shares this happiness with Kevin.   \n",
       "41                                                                                                                                                                                                                                                               Son is coming to see his parents' this weekend.   \n",
       "42                                                                                Ola is in Cuba and is enjoying her trip. She has problems with connectivity there. Momo has recovered from her injury. Ola doesn't like the clothes in Cuba. Ola will try to find a blouse for mum in Cuba, as Kate suggested.   \n",
       "43                                                                                                                                                                                                                                                                     Mike will ask Mary for John's new number.   \n",
       "44                                                                                                                                                                                                                              Joseph has sent Ella a photo of Wujek Janek's twin baby cows. Ella is delighted.   \n",
       "45                                                                                                                                                                                                                   Josh thinks Stephen accidentally took his notebook. Jack has it and will bring it tomorrow.   \n",
       "46                                                                                                                                                      Adele got a new biscuit Labrador Chewy that is 4 months. Her cats keep their distance, and Poppy and Lulu seem to mother Chewy and Speedy wants to play.   \n",
       "47                                                                                                                                                                                                                                             Kristian and Tabora are playing a game about what they like best.   \n",
       "48                                                                                                                                                                                                                                                                 Cathy will pick up her glasses tonight at 10.   \n",
       "49                                                                                                                                                                                                                          Petra is very sleepy at work today, Andy finds the day boring, and Ezgi is working.    \n",
       "\n",
       "                                                                                                                                                                                                                                                                                                                                                                                                                                                                                                                                                                                                                      original_model_summaries  \\\n",
       "0                                                                                                                                                                                                                                                                                                                                                                                                                                                                                                                      Hannah wants to know Betty's number. Amanda can't find it. Amanda asks Larry Larry if Betty's phone number is the same.   \n",
       "1                                                                                                                                                                                                                                                                                                                                                                                                                                                                                                                                                                                                     Eric and Rob are watching a train video.   \n",
       "2                                                                                                                                                                                                                                                                                                                                                                                                                                                                                                                                                                                          Lenny will buy the third pair of trousers from Bob.   \n",
       "3                                                                                                                                                                                                                                                                                                                                                                                                                                                                                                                                                                                               Emma will be home soon. Will will pick her up.   \n",
       "4                                                                                                                                                                                                               Jane is in Warsaw. Ollie reminds Jane that they have a party on Friday. Jane lost her calendar. Ollie reminds Jane that she has lost it. Jane is in Morocco. Jane is busy. Ollie is going to bring some sun with Jane. Jane is busy. Jane is on her way. Jane is going to bring some tea. Ollie is on her way. Jane is on her way. Ollie will bring some pastries. Jane is on her way. Jane is on her way. Jane is on her way.   \n",
       "5                                                                                                                                                                                                                                                                                                                                                         Hilary, Elliot and Benjamin are meeting for drinks in the evening. Hilary and Hilary are meeting at the entrance to the conference hall. Hilary will meet with the French people at La Cantina. Hilary and Benjamin will have lunch together. Hilary and Hilary will meet for a nap.   \n",
       "6                                                                                                                                                                                                                                                                                                                                                                                                                                                                                                                                                                    Payton usually buys clothes from 2 or 3 of them. Max will check them out.   \n",
       "7                                                                                                                                                                                                                                                                                                                                                                                                                                                                                                                                                                                                             Rita is tired and bored at work.   \n",
       "8                                                                                                                                                                                                                                                                                                                                                                                                                                                                                                                                                                                  Beatrice is in town, and she's looking for a scarf for Leo.   \n",
       "9                                                                                                                                                                                                                                                                                                                                                                                                                                                                                                                                                              Eric is coming to Eric's brother's wedding. Ivan will take care of his parents.   \n",
       "10                                                                                                                                                                                                                                                                                                                                                                                                                                                                                     Wanda and Gina are going to have a party on Friday. Wanda will take Gina's father's car and go to a grocery store. Gina will ask Wanda to go with Gina.   \n",
       "11                                                                                                                                                                                                                                                                                                                                                                                                                                                                                                                                                                 Martin got tickets to see the new film with Redford at the end of the week.   \n",
       "12                                                                                                                                                                                                                                                                                                                                                                                                                                                                                                                                                                                                   Charlee is in class. Charlee is in class.   \n",
       "13                                                                                                                                                                                                                                                                                                                                                                                                                                                                                                                                                                                                                          Ella rented a car.   \n",
       "14                                                                                                                                                                                                                                                                                                                                                                                                                                                                                     Paul will send Luke the login and password on Saturday. Paul will send Luke the bank account details tomorrow. Paul is on holidays with his girlfriend.   \n",
       "15                                                                                                                                                                                                                                                                                                                                                                                                                                                                                                                                                                                                  Greg is ill and needs to stay after hours.   \n",
       "16                                                                                                                                                                                                                                                                                                                                                                                                                                                                                                                                                                                            Ethan and Marshall are making fun of each other.   \n",
       "17                                                                                                                                                                                                                                                                                                                                                                                                                                                                                                                                                                                                                Igor is demotivated at work.   \n",
       "18                                                                                                                                                                                                                                                                                                                                                                                                                                                                                                                                                                        Neela is watching Dear White People on Netflix. Clara recommends it.   \n",
       "19                                                                                                                                                                                                                                                                                                                                                                                                                                                                                                                                                                           Mike took his car into the garage today. He's looking like a car.   \n",
       "20                                                                                                                                                                                                                                                                                                                                                                                                                                       Beth's mum's 40th birthday. Deirdre and Kira had a surprise party for her. Beth is doing work experience at the salon. Deirdre invites Beth to a salon on Saturday. Beth will try the beauty therapy.   \n",
       "21                                                                                                                                                                                                                                                                                                                                                                                                                                                                                                                                                                                      Gloria is going to take a test for her English course.   \n",
       "22                                                                                                                                                                                                                                                                                                                                                                                                                                                                                                                              Karen and Adam talked about May and their concerns about her. Karen's friend recommends seeing a psychiatrist.   \n",
       "23                                                                                                                                                                                                                                                                                                                                                                                                                                                                                                                                                                                                                 Anne is worried about Mark.   \n",
       "24                                                                                                                                                                                                                                                                                                                                                                                                                                                                                                                                                       Wharton's birthday is next week. They are going to the party to get office equipment.   \n",
       "25                                                                                                                                                                                                                                                                                                                                                                                                                                                                                                                                Ollie and Mickey are talking about a sculpture garden in Finnland. Ollie's place is Nagoro village in Japan.   \n",
       "26                                                                                                                                                                                                                                                                                                                                                                                                                                                                                                                                                                                                               I can't see the phone number.   \n",
       "27                                                                                                                                                                                                                                                                                                                                                                                                                                                                                                                                                              The boss's office was angry with the client's decision. He reacted positively.   \n",
       "28                                                                                                                                                                                                                                                                                                                                                                                                                                                                                                                              Emma is on the bus. She's going to arrive to New York around 4.30 PM. Ben will try to wake her up around 4.15.   \n",
       "29                                                                                                                                                                                                                                                                                                                                                                                                                                                                                                 Jesse is thinking about putting in presents for the poor. He is going to do something this year. Melvin, Lee and Maxine are going to do it.   \n",
       "30                                                                                                                                                                                                                                                                                                                                                                                                                                                                                                                                                                                                        Carter will lend some boxes to Mary.   \n",
       "31                                                                                                                                                                                                                                                                                                                                                                                                                                                                                                                                                                                    Charlotte is asking Paula how to pronounce 'Natal lily'.   \n",
       "32                                                                                                                                                                                                                                                                                                                                                                                                                                                                                                                                                                                      Jack and May are going to drink a little more whiskey.   \n",
       "33                                                                                                                                                                                                                                                                                                                                                                                                                                                                                                                                                                                                     Margaret is having a terrible headache.   \n",
       "34                                                                                                                                                                                                                                                                                                                                                                                                                                                                                                                                                           Andrei and Serge are going to pick up the film equipment for tomorrow's shooting.   \n",
       "35                                                                                                                                                                                                                                                                                                                                                                                                                                                                                                                                                Janice wants Martina to get her son a hamster for his birthday. Martina has already done so.   \n",
       "36                                                                                                                                                                                                                                                                                                                                                                                                                                                                                                                                                                                                   Daniel and Lucas are playing Inquisition.   \n",
       "37                                                                                                                                                                                                                                                                                                                                                                                                                                                                                                                                                                                     Judy is attracted to jerks. Janice finds Andrew a jerk.   \n",
       "38                                                                                                                                                                                                                                                                                                                                                                                                                                                                                                                                                                                                                             Chloe is on TV.   \n",
       "39                                                                                                                                                                                                                                                                                                                                                                                                                                                                                                                                                                                         Tina and Ala are on the plane. Ala is on the phone.   \n",
       "40                                                                                                                                                                                                                                                                                                                                                                                                                                                                                                                Sebastian has been a year since moving to a new place. Kevin is happy to hear that he has been satisfied with his decisions.   \n",
       "41                                                                                                                                                                                                                                                                                                                                                                                                                                                                                                                                                                                               Son will come to Frank's mother this weekend.   \n",
       "42                                                                                                                                                                                                                                                                                                                                                                                             Ola and Kate are doing well in Cuba. Momo has recovered from her injury and is recovering. Kate is trying to find a new blouse for her. Ola is going to try to find a similar one from Laos. Kate is going to look for a similar one from Laos.   \n",
       "43                                                                                                                                                                                                                                                                                                                                                                                                                                                                                                                                                                                                                 Mary has John's new number.   \n",
       "44                                                                                                                                                                                                                                                                                                                                                                                                                                                                                                                                                                                                       Ella and Wujek Janek have tween cows.   \n",
       "45                                                                                                                                                                                                                                                                                                                                                                                                                                                                                                                                                                                                           Jack has taken his notebook home.   \n",
       "46                                                                                                                                                                                                                                                                                                                                                                                                                                                                                                                                               Adele got a new puppy. Adele took them in as she took them as she took them in as adult dogs.   \n",
       "47  Kristian is going to the cinema to see \"Batman\" and \"Superman\" and \"Supergirl\" and \"Supergirl\" and \"Superman\" and \"Superman\" and \"Superman\" and \"Supergirl\" and \"Superman\" and \"Supergirl\" and \"Superman\" and \"Supergirl\" and \"Superman\" and \"Superman\" and \"Supergirl\" and \"Superman\" and \"Supergirl\" and \"Superman\" and \"Superman\" and \"Superman\" and \"Superman\" and \"Supergirl\" and \"Superman\" and \"Superman\" and \"Supergirl\" and \"Superman\" and \"Superman\" and \"Superman\" and \"Supergirl\" and \"Superman\" and \"Superman\" and \"Superman\" and \"Supergirl\" and \"Superman\" and \"Superman\" and \"Superman\" and \"Supergirl\" and \"Superman\" and   \n",
       "48                                                                                                                                                                                                                                                                                                                                                                                                                                                                                                                                                                                        Cathy is going to pick up her sunglasses at Broke's.   \n",
       "49                                                                                                                                                                                                                                                                                                                                                                                                                                                                                                                                                                  Petra is tired. She's not working at the office. Andy and Petra are tired.   \n",
       "\n",
       "                                                                                                                                                                                                                                                            instruct_model_summaries  \n",
       "0                                                                                                                                                                                                                           Amanda can't find Betty's number. Amanda will ask Larry.  \n",
       "1                                                                                                                                                                                    Eric and Rob are watching a stand-up. Eric and Rob will watch some of his stand-ups on youtube.  \n",
       "2                                                                                                                                                                                                     Lenny wants to buy two pairs of black trousers. Bob recommends the first pair.  \n",
       "3                                                                                                                                                                                                                                     Emma will be home soon. Will will pick her up.  \n",
       "4                                                                                                                                                           Jane lost her calendar. Ollie and Jane have lunch on Friday. Jane will be in Morocco at 6 pm. Ollie will bring pastries.  \n",
       "5                                                                 Hilary and Elliot are meeting at the conference hall at 2 pm. Hilary will meet them at the entrance to the conference hall at 2 pm. Hilary will meet them at La Cantina. Hilary will take the keys and take a nap.  \n",
       "6                                                                                                                                                                                                        Payton likes to browse and try on clothes. Max will check out the websites.  \n",
       "7                                                                                                                                                                                                                              Rita is tired and is not able to concentrate at work.  \n",
       "8                                                                                                                                                                              Beatrice is in town, shopping. She has a scarf in the shop next to the church. Leo doesn't like them.  \n",
       "9                                                                                                                                                                      Eric is coming to Ivan's brother's wedding. Eric has a lot of work at home. Eric will talk to Ivan's parents.  \n",
       "10                                                                                                                                                                                                                               Wanda and Gina are going to make a party on Friday.  \n",
       "11                                                                                                                                          Martin won two cinema tickets online. He wrote a short review on Facebook and will see the new film with Redford at the end of the week.  \n",
       "12                                                                                                                                                                                                                Charlee is in class. She is preparing a performance in Portuguese.  \n",
       "13                                                                                                                                                                                                                                                                Ella rented a car.  \n",
       "14                                                                                                Paul is looking for a new Netflix member. Luke will send Paul the login and password on Sunday. Paul will send Luke the bank account details. Paul is paying for the subscription.  \n",
       "15                                                                                                                                                                                                                       Greg needs to stay after hours. Betsy can't pick up Johnny.  \n",
       "16                                                                                                                                                                                                                                           Ethan and Toby are making fun of Scott.  \n",
       "17                                                                                                                                                                                         Igor has a lot of work to do at work. John advises Igor to stop thinking and start doing.  \n",
       "18                                                                                                                                                                                                              Neela is watching Dear White People on Netflix. Clara recommends it.  \n",
       "19                                                                                                                                                                                                                        Mike's car crashed into a red Honda looking like Ernest's.  \n",
       "20  Beth's mother's 40th birthday is in 6 weeks. Deirdre is looking for Saturday girls. Beth wants to try a bit of work experience in the salon. Deirdre is looking for Saturday girls. Beth is 16 and wants to try the beauty therapy. Deirdre will give Beth a tenner per session.  \n",
       "21                                                                                                                                                                                Gloria and Emma are going to take the exam. They are going to read some texts from previous years.  \n",
       "22                                                                                                                                 May is depressed and doesn't want to go out for a beer. Karen suggests a specialist but she's not happy about it. Karen will call a psychologist.  \n",
       "23                                                                                                                                                                                                                          Anne is angry because Mark told her he's 30 and he's 40.  \n",
       "24                                                                                                                                                                                         Wharton's birthday is next week. They need to buy him a present. They will ask him twice.  \n",
       "25                                                                                                                                                                                Kelly's place is in a sculpture garden in Finnland. Ollie and Mickey are scared of the sculptures.  \n",
       "26                                                                                                                                                                                                                                    Myah can't see the phone number of the person.  \n",
       "27                                                                                                                                                                                                             The boss appreciated the decision to dismiss the request of a client.  \n",
       "28                                                                                                                                  Emma is at the rare bus. She will take a nap in the free seats. They are going to arrive to NY around 4.30 PM. Ben will wake her up around 4.15.  \n",
       "29                                                                                                                                      Jesse and Melvin are going to do something for the less fortunate this year. They are going to chip in to the Christmas charity, the Refuge.  \n",
       "30                                                                                                                                                                                                                                                 Carter will lend Mary some boxes.  \n",
       "31                                                                                                                                                                                                                          Paula is asking Charlotte how to pronounce 'Natal lily'.  \n",
       "32                                                                                                                                                                                                                                   Jack and May are going to have cocktails later.  \n",
       "33                                                                                                                                                                                                                          Margaret is having a headache. Jack advises her to rest.  \n",
       "34                                                                                                                           Serge picked up the film equipment for tonight's shooting. He has an outstanding bill to pay with the company. He will let Andrei know if it works out.  \n",
       "35                                                                                                                                                                                                        Janice doesn't want to get her son a hamster. Martina has one for her son.  \n",
       "36                                                                                                                                                                                                                     Daniel and Mary are playing DA II. Lucas and Mary play DA II.  \n",
       "37                                                                                                                                                                                                                                  Judy is attracted to jerks. Bruce is not a jerk.  \n",
       "38                                                                                                                                                                                                                                                                   Chloe is on TV.  \n",
       "39                                                                                                                                                                                                           Tina is impressed by the Emirate staff. Ala is on her way to a meeting.  \n",
       "40                                                                                                                                                  Sebastian has been living in the same place for a year. He has learned more than he has ever before. Kevin wants to win lottery.  \n",
       "41                                                                                                                                                                                                                                                  Son will come home this weekend.  \n",
       "42                                                                                                                    Ola is in Cuba. Momo is recovering from a bad injury. Ola's scarf is from Laos. Momo's blouse is cheap and not authentic. Ola will try to find a Cuban blouse.  \n",
       "43                                                                                                                                                                                                                             Ann doesn't have John's number. Mike should ask Mary.  \n",
       "44                                                                                                                                                                                                                             Wujek Janek has tween cows. Ella wants to touch them.  \n",
       "45                                                                                                                                                                                                                                              Jack has taken Josh's notebook home.  \n",
       "46                                                                                                                                                                                                                      Adele got a new dog. She adopted a biscuit lab 4 months ago.  \n",
       "47                                                                                                                                                                                                                                    Kristian, Tabora and Batman are playing games.  \n",
       "48                                                                                                                                                                                                          Cathy left her sunglasses at Broke's. She will come round at 10 tonight.  \n",
       "49                                                                                                                                                                                                                                                 Petra is sleepy. Ezgi is working.  "
      ]
     },
     "execution_count": 16,
     "metadata": {},
     "output_type": "execute_result"
    }
   ],
   "source": [
    "human_baseline_summaries = dataset['test']['summary']\n",
    "zipped_summaries = list(zip(human_baseline_summaries, original_model_summaries, instruct_model_summaries))\n",
    "pd.set_option('display.max_colwidth', 1000) \n",
    "df = pd.DataFrame(zipped_summaries, columns = ['human_baseline_summaries', 'original_model_summaries', 'instruct_model_summaries'])\n",
    "df.head(50)"
   ]
  },
  {
   "cell_type": "code",
   "execution_count": 17,
   "metadata": {},
   "outputs": [
    {
     "data": {
      "text/plain": [
       "(819, 3)"
      ]
     },
     "execution_count": 17,
     "metadata": {},
     "output_type": "execute_result"
    }
   ],
   "source": [
    "df.shape"
   ]
  },
  {
   "cell_type": "markdown",
   "metadata": {
    "tags": []
   },
   "source": [
    "Evaluate the models computing ROUGE metrics. Notice the improvement in the results!"
   ]
  },
  {
   "cell_type": "code",
   "execution_count": 18,
   "metadata": {
    "tags": []
   },
   "outputs": [
    {
     "name": "stdout",
     "output_type": "stream",
     "text": [
      "819\n",
      "ORIGINAL MODEL:\n",
      "{'rouge1': 0.4193288022161734, 'rouge2': 0.17492223858519834, 'rougeL': 0.344462213698505, 'rougeLsum': 0.34458873490984254}\n",
      "INSTRUCT MODEL:\n",
      "{'rouge1': 0.4809178705029691, 'rouge2': 0.2372639007386037, 'rougeL': 0.40366507380512123, 'rougeLsum': 0.40344438847621056}\n"
     ]
    }
   ],
   "source": [
    "original_model_results = rouge.compute(\n",
    "    predictions=original_model_summaries,\n",
    "    references=human_baseline_summaries[0:len(original_model_summaries)],\n",
    "    use_aggregator=True,\n",
    "    use_stemmer=True,\n",
    ")\n",
    "\n",
    "instruct_model_results = rouge.compute(\n",
    "    predictions=instruct_model_summaries,\n",
    "    references=human_baseline_summaries[0:len(instruct_model_summaries)],\n",
    "    use_aggregator=True,\n",
    "    use_stemmer=True,\n",
    ")\n",
    "\n",
    "print(len(instruct_model_summaries))\n",
    "print('ORIGINAL MODEL:')\n",
    "print(original_model_results)\n",
    "print('INSTRUCT MODEL:')\n",
    "print(instruct_model_results)"
   ]
  },
  {
   "cell_type": "markdown",
   "metadata": {},
   "source": [
    "The file `data/dialogue-summary-training-results.csv` contains a pre-populated list of all model results which you can use to evaluate on a larger section of data. Let's do that for each of the models:"
   ]
  },
  {
   "cell_type": "markdown",
   "metadata": {
    "tags": []
   },
   "source": [
    "The results show substantial improvement in all ROUGE metrics:"
   ]
  },
  {
   "cell_type": "code",
   "execution_count": 19,
   "metadata": {
    "tags": []
   },
   "outputs": [
    {
     "name": "stdout",
     "output_type": "stream",
     "text": [
      "Absolute percentage improvement of INSTRUCT MODEL over ORIGINAL MODEL\n",
      "rouge1: 6.16%\n",
      "rouge2: 6.23%\n",
      "rougeL: 5.92%\n",
      "rougeLsum: 5.89%\n"
     ]
    }
   ],
   "source": [
    "print(\"Absolute percentage improvement of INSTRUCT MODEL over ORIGINAL MODEL\")\n",
    "\n",
    "improvement = (np.array(list(instruct_model_results.values())) - np.array(list(original_model_results.values())))\n",
    "for key, value in zip(instruct_model_results.keys(), improvement):\n",
    "    print(f'{key}: {value*100:.2f}%')"
   ]
  },
  {
   "cell_type": "markdown",
   "metadata": {},
   "source": [
    "<a name='3'></a>\n",
    "## 3 - Perform Parameter Efficient Fine-Tuning (PEFT)\n",
    "\n",
    "Now, let's perform **Parameter Efficient Fine-Tuning (PEFT)** fine-tuning as opposed to \"full fine-tuning\" as you did above. PEFT is a form of instruction fine-tuning that is much more efficient than full fine-tuning - with comparable evaluation results as you will see soon. \n",
    "\n",
    "PEFT is a generic term that includes **Low-Rank Adaptation (LoRA)** and prompt tuning (which is NOT THE SAME as prompt engineering!). In most cases, when someone says PEFT, they typically mean LoRA. LoRA, at a very high level, allows the user to fine-tune their model using fewer compute resources (in some cases, a single GPU). After fine-tuning for a specific task, use case, or tenant with LoRA, the result is that the original LLM remains unchanged and a newly-trained “LoRA adapter” emerges. This LoRA adapter is much, much smaller than the original LLM - on the order of a single-digit % of the original LLM size (MBs vs GBs).  \n",
    "\n",
    "That said, at inference time, the LoRA adapter needs to be reunited and combined with its original LLM to serve the inference request.  The benefit, however, is that many LoRA adapters can re-use the original LLM which reduces overall memory requirements when serving multiple tasks and use cases."
   ]
  },
  {
   "cell_type": "markdown",
   "metadata": {},
   "source": [
    "<a name='3.1'></a>\n",
    "### 3.1 - Setup the PEFT/LoRA model for Fine-Tuning\n",
    "\n",
    "You need to set up the PEFT/LoRA model for fine-tuning with a new layer/parameter adapter. Using PEFT/LoRA, you are freezing the underlying LLM and only training the adapter. Have a look at the LoRA configuration below. Note the rank (`r`) hyper-parameter, which defines the rank/dimension of the adapter to be trained."
   ]
  },
  {
   "cell_type": "code",
   "execution_count": 20,
   "metadata": {
    "tags": []
   },
   "outputs": [],
   "source": [
    "from peft import LoraConfig, get_peft_model, TaskType\n",
    "\n",
    "lora_config = LoraConfig(\n",
    "    r=32, # Rank\n",
    "    lora_alpha=32,\n",
    "    target_modules=[\"q\", \"v\"],\n",
    "    lora_dropout=0.05,\n",
    "    bias=\"none\",\n",
    "    task_type=TaskType.SEQ_2_SEQ_LM # FLAN-T5\n",
    ")"
   ]
  },
  {
   "cell_type": "markdown",
   "metadata": {
    "tags": []
   },
   "source": [
    "Add LoRA adapter layers/parameters to the original LLM to be trained."
   ]
  },
  {
   "cell_type": "code",
   "execution_count": 21,
   "metadata": {},
   "outputs": [
    {
     "name": "stdout",
     "output_type": "stream",
     "text": [
      "trainable model parameters: 3538944\n",
      "all model parameters: 251116800\n",
      "percentage of trainable model parameters: 1.41%\n"
     ]
    }
   ],
   "source": [
    "original_model_pre = AutoModelForSeq2SeqLM.from_pretrained(\"google/flan-t5-base\", torch_dtype=torch.bfloat16)\n",
    "tokenizer = AutoTokenizer.from_pretrained(\"google/flan-t5-base\")\n",
    "\n",
    "peft_model = get_peft_model(original_model_pre, \n",
    "                            lora_config)\n",
    "print(print_number_of_trainable_model_parameters(peft_model))"
   ]
  },
  {
   "cell_type": "markdown",
   "metadata": {
    "tags": []
   },
   "source": [
    "<a name='3.2'></a>\n",
    "### 3.2 - Train PEFT Adapter\n",
    "\n",
    "Define training arguments and create `Trainer` instance."
   ]
  },
  {
   "cell_type": "code",
   "execution_count": 22,
   "metadata": {
    "tags": []
   },
   "outputs": [],
   "source": [
    "output_dir = f'./peft-samsum-summary-training-{str(int(time.time()))}'\n",
    "\n",
    "peft_training_args = TrainingArguments(\n",
    "    output_dir=output_dir,\n",
    "    auto_find_batch_size=True,\n",
    "    learning_rate=1e-3, # Higher learning rate than full fine-tuning.\n",
    "    num_train_epochs=3,\n",
    "    logging_steps=200,\n",
    "    max_steps=2000\n",
    ")\n",
    "    \n",
    "peft_trainer = Trainer(\n",
    "    model=peft_model,\n",
    "    args=peft_training_args,\n",
    "    train_dataset=tokenized_datasets[\"train\"],\n",
    ")"
   ]
  },
  {
   "cell_type": "markdown",
   "metadata": {},
   "source": [
    "Now everything is ready to train the PEFT adapter and save the model."
   ]
  },
  {
   "cell_type": "code",
   "execution_count": 23,
   "metadata": {
    "tags": []
   },
   "outputs": [
    {
     "name": "stderr",
     "output_type": "stream",
     "text": [
      "/home/dsp/miniconda3/lib/python3.9/site-packages/transformers/optimization.py:411: FutureWarning: This implementation of AdamW is deprecated and will be removed in a future version. Use the PyTorch implementation torch.optim.AdamW instead, or set `no_deprecation_warning=True` to disable this warning\n",
      "  warnings.warn(\n"
     ]
    },
    {
     "data": {
      "text/html": [
       "\n",
       "    <div>\n",
       "      \n",
       "      <progress value='2000' max='2000' style='width:300px; height:20px; vertical-align: middle;'></progress>\n",
       "      [2000/2000 18:10, Epoch 1/2]\n",
       "    </div>\n",
       "    <table border=\"1\" class=\"dataframe\">\n",
       "  <thead>\n",
       " <tr style=\"text-align: left;\">\n",
       "      <th>Step</th>\n",
       "      <th>Training Loss</th>\n",
       "    </tr>\n",
       "  </thead>\n",
       "  <tbody>\n",
       "    <tr>\n",
       "      <td>200</td>\n",
       "      <td>2.613200</td>\n",
       "    </tr>\n",
       "    <tr>\n",
       "      <td>400</td>\n",
       "      <td>0.125700</td>\n",
       "    </tr>\n",
       "    <tr>\n",
       "      <td>600</td>\n",
       "      <td>0.110400</td>\n",
       "    </tr>\n",
       "    <tr>\n",
       "      <td>800</td>\n",
       "      <td>0.107600</td>\n",
       "    </tr>\n",
       "    <tr>\n",
       "      <td>1000</td>\n",
       "      <td>0.103300</td>\n",
       "    </tr>\n",
       "    <tr>\n",
       "      <td>1200</td>\n",
       "      <td>0.102200</td>\n",
       "    </tr>\n",
       "    <tr>\n",
       "      <td>1400</td>\n",
       "      <td>0.100600</td>\n",
       "    </tr>\n",
       "    <tr>\n",
       "      <td>1600</td>\n",
       "      <td>0.098100</td>\n",
       "    </tr>\n",
       "    <tr>\n",
       "      <td>1800</td>\n",
       "      <td>0.097900</td>\n",
       "    </tr>\n",
       "    <tr>\n",
       "      <td>2000</td>\n",
       "      <td>0.098700</td>\n",
       "    </tr>\n",
       "  </tbody>\n",
       "</table><p>"
      ],
      "text/plain": [
       "<IPython.core.display.HTML object>"
      ]
     },
     "metadata": {},
     "output_type": "display_data"
    },
    {
     "data": {
      "text/plain": [
       "('./peft-dialogue-summary-checkpoint-local/tokenizer_config.json',\n",
       " './peft-dialogue-summary-checkpoint-local/special_tokens_map.json',\n",
       " './peft-dialogue-summary-checkpoint-local/spiece.model',\n",
       " './peft-dialogue-summary-checkpoint-local/added_tokens.json',\n",
       " './peft-dialogue-summary-checkpoint-local/tokenizer.json')"
      ]
     },
     "execution_count": 23,
     "metadata": {},
     "output_type": "execute_result"
    }
   ],
   "source": [
    "peft_trainer.train()\n",
    "\n",
    "peft_model_path=\"./peft-dialogue-summary-checkpoint-local\"\n",
    "\n",
    "peft_trainer.model.save_pretrained(peft_model_path)\n",
    "tokenizer.save_pretrained(peft_model_path)"
   ]
  },
  {
   "cell_type": "markdown",
   "metadata": {
    "tags": []
   },
   "source": [
    "Prepare this model by adding an adapter to the original FLAN-T5 model. You are setting `is_trainable=False` because the plan is only to perform inference with this PEFT model. If you were preparing the model for further training, you would set `is_trainable=True`."
   ]
  },
  {
   "cell_type": "code",
   "execution_count": 24,
   "metadata": {
    "tags": []
   },
   "outputs": [],
   "source": [
    "from peft import PeftModel, PeftConfig\n",
    "\n",
    "original_model_base = AutoModelForSeq2SeqLM.from_pretrained(\"google/flan-t5-base\", torch_dtype=torch.bfloat16)\n",
    "tokenizer = AutoTokenizer.from_pretrained(\"google/flan-t5-base\")\n",
    "\n",
    "peft_model = PeftModel.from_pretrained(original_model_base, \n",
    "                                       './peft-dialogue-summary-checkpoint-local/', \n",
    "                                       torch_dtype=torch.bfloat16,\n",
    "                                       is_trainable=False)"
   ]
  },
  {
   "cell_type": "markdown",
   "metadata": {
    "tags": []
   },
   "source": [
    "The number of trainable parameters will be `0` due to `is_trainable=False` setting:"
   ]
  },
  {
   "cell_type": "code",
   "execution_count": 25,
   "metadata": {
    "tags": []
   },
   "outputs": [
    {
     "name": "stdout",
     "output_type": "stream",
     "text": [
      "trainable model parameters: 0\n",
      "all model parameters: 251116800\n",
      "percentage of trainable model parameters: 0.00%\n"
     ]
    }
   ],
   "source": [
    "print(print_number_of_trainable_model_parameters(peft_model))"
   ]
  },
  {
   "cell_type": "markdown",
   "metadata": {},
   "source": [
    "<a name='3.3'></a>\n",
    "### 3.3 - Evaluate the Model Qualitatively (Human Evaluation)\n",
    "\n",
    "Make inferences for the same example as in sections [1.3](#1.3) and [2.3](#2.3), with the original model, fully fine-tuned and PEFT model."
   ]
  },
  {
   "cell_type": "code",
   "execution_count": 26,
   "metadata": {
    "tags": []
   },
   "outputs": [
    {
     "name": "stdout",
     "output_type": "stream",
     "text": [
      "---------------------------------------------------------------------------------------------------\n",
      "BASELINE HUMAN SUMMARY:\n",
      "Sam won't finish work till 5. Sam is bringing him over about 9 am. Sam will see Abdellilah in the morning. \n",
      "---------------------------------------------------------------------------------------------------\n",
      "ORIGINAL MODEL:\n",
      "Sam finishes work at about 9.\n",
      "---------------------------------------------------------------------------------------------------\n",
      "INSTRUCT MODEL:\n",
      "Sam finishes work at 5 and is not bringing Abdellilah over tonight. Sam will bring Abdellilah to work around 9 in the morning.\n",
      "---------------------------------------------------------------------------------------------------\n",
      "PEFT MODEL: Sam finishes work at 5 and will bring Abdellilah to work at about 9.\n"
     ]
    }
   ],
   "source": [
    "index = 200\n",
    "dialogue = dataset['test'][index]['dialogue']\n",
    "baseline_human_summary = dataset['test'][index]['summary']\n",
    "\n",
    "prompt = f\"\"\"\n",
    "Summarize the following conversation.\n",
    "\n",
    "{dialogue}\n",
    "\n",
    "Summary: \"\"\"\n",
    "\n",
    "input_ids = tokenizer(prompt, return_tensors=\"pt\").input_ids.to(device)\n",
    "original_model.cuda()\n",
    "instruct_model.cuda()\n",
    "peft_model.cuda()\n",
    "original_model_outputs = original_model.generate(input_ids=input_ids, generation_config=GenerationConfig(max_new_tokens=200, num_beams=1))\n",
    "original_model_text_output = tokenizer.decode(original_model_outputs[0], skip_special_tokens=True)\n",
    "\n",
    "instruct_model_outputs = instruct_model.generate(input_ids=input_ids, generation_config=GenerationConfig(max_new_tokens=200, num_beams=1))\n",
    "instruct_model_text_output = tokenizer.decode(instruct_model_outputs[0], skip_special_tokens=True)\n",
    "\n",
    "peft_model_outputs = peft_model.generate(input_ids=input_ids, generation_config=GenerationConfig(max_new_tokens=200, num_beams=1))\n",
    "peft_model_text_output = tokenizer.decode(peft_model_outputs[0], skip_special_tokens=True)\n",
    "\n",
    "print(dash_line)\n",
    "print(f'BASELINE HUMAN SUMMARY:\\n{baseline_human_summary}')\n",
    "print(dash_line)\n",
    "print(f'ORIGINAL MODEL:\\n{original_model_text_output}')\n",
    "print(dash_line)\n",
    "print(f'INSTRUCT MODEL:\\n{instruct_model_text_output}')\n",
    "print(dash_line)\n",
    "print(f'PEFT MODEL: {peft_model_text_output}')"
   ]
  },
  {
   "cell_type": "markdown",
   "metadata": {},
   "source": [
    "<a name='3.4'></a>\n",
    "### 3.4 - Evaluate the Model Quantitatively (with ROUGE Metric)\n",
    "Perform inferences for the sample of the test dataset (only 10 dialogues and summaries to save time). "
   ]
  },
  {
   "cell_type": "code",
   "execution_count": 27,
   "metadata": {
    "tags": []
   },
   "outputs": [
    {
     "name": "stderr",
     "output_type": "stream",
     "text": [
      "Token indices sequence length is longer than the specified maximum sequence length for this model (530 > 512). Running this sequence through the model will result in indexing errors\n"
     ]
    },
    {
     "data": {
      "text/html": [
       "<div>\n",
       "<style scoped>\n",
       "    .dataframe tbody tr th:only-of-type {\n",
       "        vertical-align: middle;\n",
       "    }\n",
       "\n",
       "    .dataframe tbody tr th {\n",
       "        vertical-align: top;\n",
       "    }\n",
       "\n",
       "    .dataframe thead th {\n",
       "        text-align: right;\n",
       "    }\n",
       "</style>\n",
       "<table border=\"1\" class=\"dataframe\">\n",
       "  <thead>\n",
       "    <tr style=\"text-align: right;\">\n",
       "      <th></th>\n",
       "      <th>human_baseline_summaries</th>\n",
       "      <th>original_model_summaries</th>\n",
       "      <th>instruct_model_summaries</th>\n",
       "      <th>peft_model_summaries</th>\n",
       "    </tr>\n",
       "  </thead>\n",
       "  <tbody>\n",
       "    <tr>\n",
       "      <th>0</th>\n",
       "      <td>Hannah needs Betty's number but Amanda doesn't have it. She needs to contact Larry.</td>\n",
       "      <td>Amanda can't find Betty's number. Amanda and Hannah are going to text him.</td>\n",
       "      <td>Amanda can't find Betty's number. Amanda will ask Larry.</td>\n",
       "      <td>Amanda can't find Betty's number. She asked Larry last time she was at the park together. Hannah doesn't know Larry well.</td>\n",
       "    </tr>\n",
       "    <tr>\n",
       "      <th>1</th>\n",
       "      <td>Eric and Rob are going to watch a stand-up on youtube.</td>\n",
       "      <td>Eric and Rob like the Russian stand-up.</td>\n",
       "      <td>Eric and Rob are watching a stand-up. Eric and Rob will watch some of his stand-ups on youtube.</td>\n",
       "      <td>Eric and Rob are watching a Russian stand-up on youtube. Eric and Rob will watch some of his stand-ups on youtube.</td>\n",
       "    </tr>\n",
       "    <tr>\n",
       "      <th>2</th>\n",
       "      <td>Lenny can't decide which trousers to buy. Bob advised Lenny on that topic. Lenny goes with Bob's advice to pick the trousers that are of best quality.</td>\n",
       "      <td>Lenny will buy purple trousers.</td>\n",
       "      <td>Lenny wants to buy two pairs of black trousers. Bob recommends the first pair.</td>\n",
       "      <td>Lenny wants to buy two pairs of purple trousers. Bob has four black trousers. Lenny will buy the first or the third pair.</td>\n",
       "    </tr>\n",
       "    <tr>\n",
       "      <th>3</th>\n",
       "      <td>Emma will be home soon and she will let Will know.</td>\n",
       "      <td>Emma will be home soon.</td>\n",
       "      <td>Emma will be home soon. Will will pick her up.</td>\n",
       "      <td>Emma will be home soon. Will will pick her up when she gets home.</td>\n",
       "    </tr>\n",
       "    <tr>\n",
       "      <th>4</th>\n",
       "      <td>Jane is in Warsaw. Ollie and Jane has a party. Jane lost her calendar. They will get a lunch this week on Friday. Ollie accidentally called Jane and talked about whisky. Jane cancels lunch. They'll meet for a tea at 6 pm.</td>\n",
       "      <td>Jane is in Warsaw. Jane will be free on the 19th and the 18th. Ollie will be free on the 18th. Jane will be in Morocco. Ollie and Jane will have lunch this week. Jane will be in Warsaw for the meeting. Jane will be in Morocco at 6pm tomorrow.</td>\n",
       "      <td>Jane lost her calendar. Ollie and Jane have lunch on Friday. Jane will be in Morocco at 6 pm. Ollie will bring pastries.</td>\n",
       "      <td>Jane lost her calendar. She will be at the party on Friday. Ollie will bring some sun with her. Jane will be in Morocco at 6 pm after her courses. Ollie will bring the pastries.</td>\n",
       "    </tr>\n",
       "    <tr>\n",
       "      <th>...</th>\n",
       "      <td>...</td>\n",
       "      <td>...</td>\n",
       "      <td>...</td>\n",
       "      <td>...</td>\n",
       "    </tr>\n",
       "    <tr>\n",
       "      <th>814</th>\n",
       "      <td>Benjamin didn't come to see a basketball game on Friday's night. The team supported by Alex won 101-98. Benjamin's mom has a flu and he's looking after her. Benjamin declares to attend the next basketball match.</td>\n",
       "      <td>Benjamin didn't attend the basketball game on Friday. He's taking care of his mom, who has a nasty flu.</td>\n",
       "      <td>Benjamin missed Friday night's basketball game because his mom is sick. Benjamin will go to the next game next weekend.</td>\n",
       "      <td>Benjamin missed Friday night's basketball game. He was unable to attend because his mom is sick. He will go to the next game next weekend.</td>\n",
       "    </tr>\n",
       "    <tr>\n",
       "      <th>815</th>\n",
       "      <td>The audition starts at 7.30 P.M. in Antena 3.</td>\n",
       "      <td>The audition starts at 7.30 P.M.</td>\n",
       "      <td>The audition starts at 7.30 P.M.</td>\n",
       "      <td>Jamilla and Kiki are going to the audition at 7.30 PM on Rogers 3 station.</td>\n",
       "    </tr>\n",
       "    <tr>\n",
       "      <th>816</th>\n",
       "      <td>Marta sent a file accidentally,</td>\n",
       "      <td>Marta's gifs are not working.</td>\n",
       "      <td>Marta clicked something by accident.</td>\n",
       "      <td>Marta clicked something by accident.</td>\n",
       "    </tr>\n",
       "    <tr>\n",
       "      <th>817</th>\n",
       "      <td>There was a meet-and-greet with James Charles in Birmingham which gathered 8000  people.</td>\n",
       "      <td>Cora and Ellie are talking about a meet and greet with James Charles in Birmingham.</td>\n",
       "      <td>James Charles met with 8000 fans in Birmingham.</td>\n",
       "      <td>James Charles was a celebrity meet and greeter in Birmingham. 8000 fans showed up for the meet and greet. The host from LBC tried to find an answer to an unanswerable question. James called him and introduced himself on air.</td>\n",
       "    </tr>\n",
       "    <tr>\n",
       "      <th>818</th>\n",
       "      <td>Rachel sends a list of Top 50 films of 2018. Janice watched almost half of them, Deadpool 2 and Avengers included.</td>\n",
       "      <td>Janice watched all the films in 2018 and Rachel liked them.</td>\n",
       "      <td>Rachel shares the top 50 best films of 2018 with Janice, Spencer and Spencer.</td>\n",
       "      <td>Rachel shares the top 50 best films of 2018 with Janice. Spencer and Janice have watched almost all 50 films. Janice's boyfriend forced her to watch Deadpool 2.</td>\n",
       "    </tr>\n",
       "  </tbody>\n",
       "</table>\n",
       "<p>819 rows × 4 columns</p>\n",
       "</div>"
      ],
      "text/plain": [
       "                                                                                                                                                                                                          human_baseline_summaries  \\\n",
       "0                                                                                                                                              Hannah needs Betty's number but Amanda doesn't have it. She needs to contact Larry.   \n",
       "1                                                                                                                                                                           Eric and Rob are going to watch a stand-up on youtube.   \n",
       "2                                                                           Lenny can't decide which trousers to buy. Bob advised Lenny on that topic. Lenny goes with Bob's advice to pick the trousers that are of best quality.   \n",
       "3                                                                                                                                                                               Emma will be home soon and she will let Will know.   \n",
       "4    Jane is in Warsaw. Ollie and Jane has a party. Jane lost her calendar. They will get a lunch this week on Friday. Ollie accidentally called Jane and talked about whisky. Jane cancels lunch. They'll meet for a tea at 6 pm.   \n",
       "..                                                                                                                                                                                                                             ...   \n",
       "814            Benjamin didn't come to see a basketball game on Friday's night. The team supported by Alex won 101-98. Benjamin's mom has a flu and he's looking after her. Benjamin declares to attend the next basketball match.   \n",
       "815                                                                                                                                                                                  The audition starts at 7.30 P.M. in Antena 3.   \n",
       "816                                                                                                                                                                                                Marta sent a file accidentally,   \n",
       "817                                                                                                                                       There was a meet-and-greet with James Charles in Birmingham which gathered 8000  people.   \n",
       "818                                                                                                             Rachel sends a list of Top 50 films of 2018. Janice watched almost half of them, Deadpool 2 and Avengers included.   \n",
       "\n",
       "                                                                                                                                                                                                                               original_model_summaries  \\\n",
       "0                                                                                                                                                                            Amanda can't find Betty's number. Amanda and Hannah are going to text him.   \n",
       "1                                                                                                                                                                                                               Eric and Rob like the Russian stand-up.   \n",
       "2                                                                                                                                                                                                                       Lenny will buy purple trousers.   \n",
       "3                                                                                                                                                                                                                               Emma will be home soon.   \n",
       "4    Jane is in Warsaw. Jane will be free on the 19th and the 18th. Ollie will be free on the 18th. Jane will be in Morocco. Ollie and Jane will have lunch this week. Jane will be in Warsaw for the meeting. Jane will be in Morocco at 6pm tomorrow.   \n",
       "..                                                                                                                                                                                                                                                  ...   \n",
       "814                                                                                                                                             Benjamin didn't attend the basketball game on Friday. He's taking care of his mom, who has a nasty flu.   \n",
       "815                                                                                                                                                                                                                    The audition starts at 7.30 P.M.   \n",
       "816                                                                                                                                                                                                                       Marta's gifs are not working.   \n",
       "817                                                                                                                                                                 Cora and Ellie are talking about a meet and greet with James Charles in Birmingham.   \n",
       "818                                                                                                                                                                                         Janice watched all the films in 2018 and Rachel liked them.   \n",
       "\n",
       "                                                                                                     instruct_model_summaries  \\\n",
       "0                                                                    Amanda can't find Betty's number. Amanda will ask Larry.   \n",
       "1                             Eric and Rob are watching a stand-up. Eric and Rob will watch some of his stand-ups on youtube.   \n",
       "2                                              Lenny wants to buy two pairs of black trousers. Bob recommends the first pair.   \n",
       "3                                                                              Emma will be home soon. Will will pick her up.   \n",
       "4    Jane lost her calendar. Ollie and Jane have lunch on Friday. Jane will be in Morocco at 6 pm. Ollie will bring pastries.   \n",
       "..                                                                                                                        ...   \n",
       "814   Benjamin missed Friday night's basketball game because his mom is sick. Benjamin will go to the next game next weekend.   \n",
       "815                                                                                          The audition starts at 7.30 P.M.   \n",
       "816                                                                                      Marta clicked something by accident.   \n",
       "817                                                                           James Charles met with 8000 fans in Birmingham.   \n",
       "818                                             Rachel shares the top 50 best films of 2018 with Janice, Spencer and Spencer.   \n",
       "\n",
       "                                                                                                                                                                                                                 peft_model_summaries  \n",
       "0                                                                                                           Amanda can't find Betty's number. She asked Larry last time she was at the park together. Hannah doesn't know Larry well.  \n",
       "1                                                                                                                  Eric and Rob are watching a Russian stand-up on youtube. Eric and Rob will watch some of his stand-ups on youtube.  \n",
       "2                                                                                                           Lenny wants to buy two pairs of purple trousers. Bob has four black trousers. Lenny will buy the first or the third pair.  \n",
       "3                                                                                                                                                                   Emma will be home soon. Will will pick her up when she gets home.  \n",
       "4                                                   Jane lost her calendar. She will be at the party on Friday. Ollie will bring some sun with her. Jane will be in Morocco at 6 pm after her courses. Ollie will bring the pastries.  \n",
       "..                                                                                                                                                                                                                                ...  \n",
       "814                                                                                        Benjamin missed Friday night's basketball game. He was unable to attend because his mom is sick. He will go to the next game next weekend.  \n",
       "815                                                                                                                                                        Jamilla and Kiki are going to the audition at 7.30 PM on Rogers 3 station.  \n",
       "816                                                                                                                                                                                              Marta clicked something by accident.  \n",
       "817  James Charles was a celebrity meet and greeter in Birmingham. 8000 fans showed up for the meet and greet. The host from LBC tried to find an answer to an unanswerable question. James called him and introduced himself on air.  \n",
       "818                                                                  Rachel shares the top 50 best films of 2018 with Janice. Spencer and Janice have watched almost all 50 films. Janice's boyfriend forced her to watch Deadpool 2.  \n",
       "\n",
       "[819 rows x 4 columns]"
      ]
     },
     "execution_count": 27,
     "metadata": {},
     "output_type": "execute_result"
    }
   ],
   "source": [
    "dialogues = dataset['test']['dialogue']\n",
    "human_baseline_summaries = dataset['test']['summary']\n",
    "\n",
    "original_model_summaries = []\n",
    "instruct_model_summaries = []\n",
    "peft_model_summaries = []\n",
    "\n",
    "for idx, dialogue in enumerate(dialogues):\n",
    "    prompt = f\"\"\"\n",
    "Summarize the following conversation.\n",
    "\n",
    "{dialogue}\n",
    "\n",
    "Summary: \"\"\"\n",
    "    \n",
    "    input_ids = tokenizer(prompt, return_tensors=\"pt\").input_ids.to(device)\n",
    "\n",
    "    human_baseline_text_output = human_baseline_summaries[idx]\n",
    "    \n",
    "    original_model_outputs = original_model.generate(input_ids=input_ids, generation_config=GenerationConfig(max_new_tokens=200))\n",
    "    original_model_text_output = tokenizer.decode(original_model_outputs[0], skip_special_tokens=True)\n",
    "    original_model_summaries.append(original_model_text_output)\n",
    "    \n",
    "    instruct_model_outputs = instruct_model.generate(input_ids=input_ids, generation_config=GenerationConfig(max_new_tokens=200))\n",
    "    instruct_model_text_output = tokenizer.decode(instruct_model_outputs[0], skip_special_tokens=True)\n",
    "    instruct_model_summaries.append(instruct_model_text_output)\n",
    "    \n",
    "    peft_model_outputs = peft_model.generate(input_ids=input_ids, generation_config=GenerationConfig(max_new_tokens=200))\n",
    "    peft_model_text_output = tokenizer.decode(peft_model_outputs[0], skip_special_tokens=True)\n",
    "    peft_model_summaries.append(peft_model_text_output)\n",
    "\n",
    "zipped_summaries = list(zip(human_baseline_summaries, original_model_summaries, instruct_model_summaries, peft_model_summaries))\n",
    " \n",
    "df = pd.DataFrame(zipped_summaries, columns = ['human_baseline_summaries', 'original_model_summaries', 'instruct_model_summaries', 'peft_model_summaries'])\n",
    "df"
   ]
  },
  {
   "cell_type": "raw",
   "metadata": {},
   "source": [
    "Compute ROUGE score for this subset of the data. "
   ]
  },
  {
   "cell_type": "code",
   "execution_count": 28,
   "metadata": {
    "tags": []
   },
   "outputs": [
    {
     "name": "stdout",
     "output_type": "stream",
     "text": [
      "ORIGINAL MODEL:\n",
      "{'rouge1': 0.4263967291442344, 'rouge2': 0.18548751320085638, 'rougeL': 0.3534714469453165, 'rougeLsum': 0.3536871906870632}\n",
      "INSTRUCT MODEL:\n",
      "{'rouge1': 0.4809178705029691, 'rouge2': 0.2372639007386037, 'rougeL': 0.40366507380512123, 'rougeLsum': 0.40344438847621056}\n",
      "PEFT MODEL:\n",
      "{'rouge1': 0.49352677359911207, 'rouge2': 0.2435781694750285, 'rougeL': 0.4054014140779256, 'rougeLsum': 0.4055151761823076}\n"
     ]
    }
   ],
   "source": [
    "rouge = evaluate.load('rouge')\n",
    "\n",
    "original_model_results = rouge.compute(\n",
    "    predictions=original_model_summaries,\n",
    "    references=human_baseline_summaries[0:len(original_model_summaries)],\n",
    "    use_aggregator=True,\n",
    "    use_stemmer=True,\n",
    ")\n",
    "\n",
    "instruct_model_results = rouge.compute(\n",
    "    predictions=instruct_model_summaries,\n",
    "    references=human_baseline_summaries[0:len(instruct_model_summaries)],\n",
    "    use_aggregator=True,\n",
    "    use_stemmer=True,\n",
    ")\n",
    "\n",
    "peft_model_results = rouge.compute(\n",
    "    predictions=peft_model_summaries,\n",
    "    references=human_baseline_summaries[0:len(peft_model_summaries)],\n",
    "    use_aggregator=True,\n",
    "    use_stemmer=True,\n",
    ")\n",
    "\n",
    "print('ORIGINAL MODEL:')\n",
    "print(original_model_results)\n",
    "print('INSTRUCT MODEL:')\n",
    "print(instruct_model_results)\n",
    "print('PEFT MODEL:')\n",
    "print(peft_model_results)"
   ]
  },
  {
   "cell_type": "markdown",
   "metadata": {},
   "source": [
    "Notice, that PEFT model results are not bad, while the training process was much easier!"
   ]
  },
  {
   "cell_type": "markdown",
   "metadata": {},
   "source": [
    "The results show less improvement over full fine-tuning, but the benefits of PEFT typically outweigh the slightly-lower performance metrics.\n",
    "\n",
    "Calculate the improvement of PEFT over the original model:"
   ]
  },
  {
   "cell_type": "code",
   "execution_count": 29,
   "metadata": {
    "tags": []
   },
   "outputs": [
    {
     "name": "stdout",
     "output_type": "stream",
     "text": [
      "Absolute percentage improvement of PEFT MODEL over ORIGINAL MODEL\n",
      "rouge1: 6.71%\n",
      "rouge2: 5.81%\n",
      "rougeL: 5.19%\n",
      "rougeLsum: 5.18%\n"
     ]
    }
   ],
   "source": [
    "print(\"Absolute percentage improvement of PEFT MODEL over ORIGINAL MODEL\")\n",
    "\n",
    "improvement = (np.array(list(peft_model_results.values())) - np.array(list(original_model_results.values())))\n",
    "for key, value in zip(peft_model_results.keys(), improvement):\n",
    "    print(f'{key}: {value*100:.2f}%')"
   ]
  },
  {
   "cell_type": "markdown",
   "metadata": {},
   "source": [
    "Now calculate the improvement of PEFT over a full fine-tuned model:"
   ]
  },
  {
   "cell_type": "code",
   "execution_count": 30,
   "metadata": {
    "tags": []
   },
   "outputs": [
    {
     "name": "stdout",
     "output_type": "stream",
     "text": [
      "Absolute percentage improvement of PEFT MODEL over INSTRUCT MODEL\n",
      "rouge1: 1.26%\n",
      "rouge2: 0.63%\n",
      "rougeL: 0.17%\n",
      "rougeLsum: 0.21%\n"
     ]
    }
   ],
   "source": [
    "print(\"Absolute percentage improvement of PEFT MODEL over INSTRUCT MODEL\")\n",
    "\n",
    "improvement = (np.array(list(peft_model_results.values())) - np.array(list(instruct_model_results.values())))\n",
    "for key, value in zip(peft_model_results.keys(), improvement):\n",
    "    print(f'{key}: {value*100:.2f}%')"
   ]
  },
  {
   "cell_type": "markdown",
   "metadata": {},
   "source": [
    "Here you see a small percentage increase in the ROUGE metrics vs. full fine-tuned. Additionally, the training requires much less computing and memory resources (often just a single GPU).\n",
    "\n",
    "Full finetuned models requires right hyperparameter tuning to perform better than PEFT techniques."
   ]
  }
 ],
 "metadata": {
  "availableInstances": [
   {
    "_defaultOrder": 0,
    "_isFastLaunch": true,
    "category": "General purpose",
    "gpuNum": 0,
    "hideHardwareSpecs": false,
    "memoryGiB": 4,
    "name": "ml.t3.medium",
    "vcpuNum": 2
   },
   {
    "_defaultOrder": 1,
    "_isFastLaunch": false,
    "category": "General purpose",
    "gpuNum": 0,
    "hideHardwareSpecs": false,
    "memoryGiB": 8,
    "name": "ml.t3.large",
    "vcpuNum": 2
   },
   {
    "_defaultOrder": 2,
    "_isFastLaunch": false,
    "category": "General purpose",
    "gpuNum": 0,
    "hideHardwareSpecs": false,
    "memoryGiB": 16,
    "name": "ml.t3.xlarge",
    "vcpuNum": 4
   },
   {
    "_defaultOrder": 3,
    "_isFastLaunch": false,
    "category": "General purpose",
    "gpuNum": 0,
    "hideHardwareSpecs": false,
    "memoryGiB": 32,
    "name": "ml.t3.2xlarge",
    "vcpuNum": 8
   },
   {
    "_defaultOrder": 4,
    "_isFastLaunch": true,
    "category": "General purpose",
    "gpuNum": 0,
    "hideHardwareSpecs": false,
    "memoryGiB": 8,
    "name": "ml.m5.large",
    "vcpuNum": 2
   },
   {
    "_defaultOrder": 5,
    "_isFastLaunch": false,
    "category": "General purpose",
    "gpuNum": 0,
    "hideHardwareSpecs": false,
    "memoryGiB": 16,
    "name": "ml.m5.xlarge",
    "vcpuNum": 4
   },
   {
    "_defaultOrder": 6,
    "_isFastLaunch": false,
    "category": "General purpose",
    "gpuNum": 0,
    "hideHardwareSpecs": false,
    "memoryGiB": 32,
    "name": "ml.m5.2xlarge",
    "vcpuNum": 8
   },
   {
    "_defaultOrder": 7,
    "_isFastLaunch": false,
    "category": "General purpose",
    "gpuNum": 0,
    "hideHardwareSpecs": false,
    "memoryGiB": 64,
    "name": "ml.m5.4xlarge",
    "vcpuNum": 16
   },
   {
    "_defaultOrder": 8,
    "_isFastLaunch": false,
    "category": "General purpose",
    "gpuNum": 0,
    "hideHardwareSpecs": false,
    "memoryGiB": 128,
    "name": "ml.m5.8xlarge",
    "vcpuNum": 32
   },
   {
    "_defaultOrder": 9,
    "_isFastLaunch": false,
    "category": "General purpose",
    "gpuNum": 0,
    "hideHardwareSpecs": false,
    "memoryGiB": 192,
    "name": "ml.m5.12xlarge",
    "vcpuNum": 48
   },
   {
    "_defaultOrder": 10,
    "_isFastLaunch": false,
    "category": "General purpose",
    "gpuNum": 0,
    "hideHardwareSpecs": false,
    "memoryGiB": 256,
    "name": "ml.m5.16xlarge",
    "vcpuNum": 64
   },
   {
    "_defaultOrder": 11,
    "_isFastLaunch": false,
    "category": "General purpose",
    "gpuNum": 0,
    "hideHardwareSpecs": false,
    "memoryGiB": 384,
    "name": "ml.m5.24xlarge",
    "vcpuNum": 96
   },
   {
    "_defaultOrder": 12,
    "_isFastLaunch": false,
    "category": "General purpose",
    "gpuNum": 0,
    "hideHardwareSpecs": false,
    "memoryGiB": 8,
    "name": "ml.m5d.large",
    "vcpuNum": 2
   },
   {
    "_defaultOrder": 13,
    "_isFastLaunch": false,
    "category": "General purpose",
    "gpuNum": 0,
    "hideHardwareSpecs": false,
    "memoryGiB": 16,
    "name": "ml.m5d.xlarge",
    "vcpuNum": 4
   },
   {
    "_defaultOrder": 14,
    "_isFastLaunch": false,
    "category": "General purpose",
    "gpuNum": 0,
    "hideHardwareSpecs": false,
    "memoryGiB": 32,
    "name": "ml.m5d.2xlarge",
    "vcpuNum": 8
   },
   {
    "_defaultOrder": 15,
    "_isFastLaunch": false,
    "category": "General purpose",
    "gpuNum": 0,
    "hideHardwareSpecs": false,
    "memoryGiB": 64,
    "name": "ml.m5d.4xlarge",
    "vcpuNum": 16
   },
   {
    "_defaultOrder": 16,
    "_isFastLaunch": false,
    "category": "General purpose",
    "gpuNum": 0,
    "hideHardwareSpecs": false,
    "memoryGiB": 128,
    "name": "ml.m5d.8xlarge",
    "vcpuNum": 32
   },
   {
    "_defaultOrder": 17,
    "_isFastLaunch": false,
    "category": "General purpose",
    "gpuNum": 0,
    "hideHardwareSpecs": false,
    "memoryGiB": 192,
    "name": "ml.m5d.12xlarge",
    "vcpuNum": 48
   },
   {
    "_defaultOrder": 18,
    "_isFastLaunch": false,
    "category": "General purpose",
    "gpuNum": 0,
    "hideHardwareSpecs": false,
    "memoryGiB": 256,
    "name": "ml.m5d.16xlarge",
    "vcpuNum": 64
   },
   {
    "_defaultOrder": 19,
    "_isFastLaunch": false,
    "category": "General purpose",
    "gpuNum": 0,
    "hideHardwareSpecs": false,
    "memoryGiB": 384,
    "name": "ml.m5d.24xlarge",
    "vcpuNum": 96
   },
   {
    "_defaultOrder": 20,
    "_isFastLaunch": false,
    "category": "General purpose",
    "gpuNum": 0,
    "hideHardwareSpecs": true,
    "memoryGiB": 0,
    "name": "ml.geospatial.interactive",
    "supportedImageNames": [
     "sagemaker-geospatial-v1-0"
    ],
    "vcpuNum": 0
   },
   {
    "_defaultOrder": 21,
    "_isFastLaunch": true,
    "category": "Compute optimized",
    "gpuNum": 0,
    "hideHardwareSpecs": false,
    "memoryGiB": 4,
    "name": "ml.c5.large",
    "vcpuNum": 2
   },
   {
    "_defaultOrder": 22,
    "_isFastLaunch": false,
    "category": "Compute optimized",
    "gpuNum": 0,
    "hideHardwareSpecs": false,
    "memoryGiB": 8,
    "name": "ml.c5.xlarge",
    "vcpuNum": 4
   },
   {
    "_defaultOrder": 23,
    "_isFastLaunch": false,
    "category": "Compute optimized",
    "gpuNum": 0,
    "hideHardwareSpecs": false,
    "memoryGiB": 16,
    "name": "ml.c5.2xlarge",
    "vcpuNum": 8
   },
   {
    "_defaultOrder": 24,
    "_isFastLaunch": false,
    "category": "Compute optimized",
    "gpuNum": 0,
    "hideHardwareSpecs": false,
    "memoryGiB": 32,
    "name": "ml.c5.4xlarge",
    "vcpuNum": 16
   },
   {
    "_defaultOrder": 25,
    "_isFastLaunch": false,
    "category": "Compute optimized",
    "gpuNum": 0,
    "hideHardwareSpecs": false,
    "memoryGiB": 72,
    "name": "ml.c5.9xlarge",
    "vcpuNum": 36
   },
   {
    "_defaultOrder": 26,
    "_isFastLaunch": false,
    "category": "Compute optimized",
    "gpuNum": 0,
    "hideHardwareSpecs": false,
    "memoryGiB": 96,
    "name": "ml.c5.12xlarge",
    "vcpuNum": 48
   },
   {
    "_defaultOrder": 27,
    "_isFastLaunch": false,
    "category": "Compute optimized",
    "gpuNum": 0,
    "hideHardwareSpecs": false,
    "memoryGiB": 144,
    "name": "ml.c5.18xlarge",
    "vcpuNum": 72
   },
   {
    "_defaultOrder": 28,
    "_isFastLaunch": false,
    "category": "Compute optimized",
    "gpuNum": 0,
    "hideHardwareSpecs": false,
    "memoryGiB": 192,
    "name": "ml.c5.24xlarge",
    "vcpuNum": 96
   },
   {
    "_defaultOrder": 29,
    "_isFastLaunch": true,
    "category": "Accelerated computing",
    "gpuNum": 1,
    "hideHardwareSpecs": false,
    "memoryGiB": 16,
    "name": "ml.g4dn.xlarge",
    "vcpuNum": 4
   },
   {
    "_defaultOrder": 30,
    "_isFastLaunch": false,
    "category": "Accelerated computing",
    "gpuNum": 1,
    "hideHardwareSpecs": false,
    "memoryGiB": 32,
    "name": "ml.g4dn.2xlarge",
    "vcpuNum": 8
   },
   {
    "_defaultOrder": 31,
    "_isFastLaunch": false,
    "category": "Accelerated computing",
    "gpuNum": 1,
    "hideHardwareSpecs": false,
    "memoryGiB": 64,
    "name": "ml.g4dn.4xlarge",
    "vcpuNum": 16
   },
   {
    "_defaultOrder": 32,
    "_isFastLaunch": false,
    "category": "Accelerated computing",
    "gpuNum": 1,
    "hideHardwareSpecs": false,
    "memoryGiB": 128,
    "name": "ml.g4dn.8xlarge",
    "vcpuNum": 32
   },
   {
    "_defaultOrder": 33,
    "_isFastLaunch": false,
    "category": "Accelerated computing",
    "gpuNum": 4,
    "hideHardwareSpecs": false,
    "memoryGiB": 192,
    "name": "ml.g4dn.12xlarge",
    "vcpuNum": 48
   },
   {
    "_defaultOrder": 34,
    "_isFastLaunch": false,
    "category": "Accelerated computing",
    "gpuNum": 1,
    "hideHardwareSpecs": false,
    "memoryGiB": 256,
    "name": "ml.g4dn.16xlarge",
    "vcpuNum": 64
   },
   {
    "_defaultOrder": 35,
    "_isFastLaunch": false,
    "category": "Accelerated computing",
    "gpuNum": 1,
    "hideHardwareSpecs": false,
    "memoryGiB": 61,
    "name": "ml.p3.2xlarge",
    "vcpuNum": 8
   },
   {
    "_defaultOrder": 36,
    "_isFastLaunch": false,
    "category": "Accelerated computing",
    "gpuNum": 4,
    "hideHardwareSpecs": false,
    "memoryGiB": 244,
    "name": "ml.p3.8xlarge",
    "vcpuNum": 32
   },
   {
    "_defaultOrder": 37,
    "_isFastLaunch": false,
    "category": "Accelerated computing",
    "gpuNum": 8,
    "hideHardwareSpecs": false,
    "memoryGiB": 488,
    "name": "ml.p3.16xlarge",
    "vcpuNum": 64
   },
   {
    "_defaultOrder": 38,
    "_isFastLaunch": false,
    "category": "Accelerated computing",
    "gpuNum": 8,
    "hideHardwareSpecs": false,
    "memoryGiB": 768,
    "name": "ml.p3dn.24xlarge",
    "vcpuNum": 96
   },
   {
    "_defaultOrder": 39,
    "_isFastLaunch": false,
    "category": "Memory Optimized",
    "gpuNum": 0,
    "hideHardwareSpecs": false,
    "memoryGiB": 16,
    "name": "ml.r5.large",
    "vcpuNum": 2
   },
   {
    "_defaultOrder": 40,
    "_isFastLaunch": false,
    "category": "Memory Optimized",
    "gpuNum": 0,
    "hideHardwareSpecs": false,
    "memoryGiB": 32,
    "name": "ml.r5.xlarge",
    "vcpuNum": 4
   },
   {
    "_defaultOrder": 41,
    "_isFastLaunch": false,
    "category": "Memory Optimized",
    "gpuNum": 0,
    "hideHardwareSpecs": false,
    "memoryGiB": 64,
    "name": "ml.r5.2xlarge",
    "vcpuNum": 8
   },
   {
    "_defaultOrder": 42,
    "_isFastLaunch": false,
    "category": "Memory Optimized",
    "gpuNum": 0,
    "hideHardwareSpecs": false,
    "memoryGiB": 128,
    "name": "ml.r5.4xlarge",
    "vcpuNum": 16
   },
   {
    "_defaultOrder": 43,
    "_isFastLaunch": false,
    "category": "Memory Optimized",
    "gpuNum": 0,
    "hideHardwareSpecs": false,
    "memoryGiB": 256,
    "name": "ml.r5.8xlarge",
    "vcpuNum": 32
   },
   {
    "_defaultOrder": 44,
    "_isFastLaunch": false,
    "category": "Memory Optimized",
    "gpuNum": 0,
    "hideHardwareSpecs": false,
    "memoryGiB": 384,
    "name": "ml.r5.12xlarge",
    "vcpuNum": 48
   },
   {
    "_defaultOrder": 45,
    "_isFastLaunch": false,
    "category": "Memory Optimized",
    "gpuNum": 0,
    "hideHardwareSpecs": false,
    "memoryGiB": 512,
    "name": "ml.r5.16xlarge",
    "vcpuNum": 64
   },
   {
    "_defaultOrder": 46,
    "_isFastLaunch": false,
    "category": "Memory Optimized",
    "gpuNum": 0,
    "hideHardwareSpecs": false,
    "memoryGiB": 768,
    "name": "ml.r5.24xlarge",
    "vcpuNum": 96
   },
   {
    "_defaultOrder": 47,
    "_isFastLaunch": false,
    "category": "Accelerated computing",
    "gpuNum": 1,
    "hideHardwareSpecs": false,
    "memoryGiB": 16,
    "name": "ml.g5.xlarge",
    "vcpuNum": 4
   },
   {
    "_defaultOrder": 48,
    "_isFastLaunch": false,
    "category": "Accelerated computing",
    "gpuNum": 1,
    "hideHardwareSpecs": false,
    "memoryGiB": 32,
    "name": "ml.g5.2xlarge",
    "vcpuNum": 8
   },
   {
    "_defaultOrder": 49,
    "_isFastLaunch": false,
    "category": "Accelerated computing",
    "gpuNum": 1,
    "hideHardwareSpecs": false,
    "memoryGiB": 64,
    "name": "ml.g5.4xlarge",
    "vcpuNum": 16
   },
   {
    "_defaultOrder": 50,
    "_isFastLaunch": false,
    "category": "Accelerated computing",
    "gpuNum": 1,
    "hideHardwareSpecs": false,
    "memoryGiB": 128,
    "name": "ml.g5.8xlarge",
    "vcpuNum": 32
   },
   {
    "_defaultOrder": 51,
    "_isFastLaunch": false,
    "category": "Accelerated computing",
    "gpuNum": 1,
    "hideHardwareSpecs": false,
    "memoryGiB": 256,
    "name": "ml.g5.16xlarge",
    "vcpuNum": 64
   },
   {
    "_defaultOrder": 52,
    "_isFastLaunch": false,
    "category": "Accelerated computing",
    "gpuNum": 4,
    "hideHardwareSpecs": false,
    "memoryGiB": 192,
    "name": "ml.g5.12xlarge",
    "vcpuNum": 48
   },
   {
    "_defaultOrder": 53,
    "_isFastLaunch": false,
    "category": "Accelerated computing",
    "gpuNum": 4,
    "hideHardwareSpecs": false,
    "memoryGiB": 384,
    "name": "ml.g5.24xlarge",
    "vcpuNum": 96
   },
   {
    "_defaultOrder": 54,
    "_isFastLaunch": false,
    "category": "Accelerated computing",
    "gpuNum": 8,
    "hideHardwareSpecs": false,
    "memoryGiB": 768,
    "name": "ml.g5.48xlarge",
    "vcpuNum": 192
   },
   {
    "_defaultOrder": 55,
    "_isFastLaunch": false,
    "category": "Accelerated computing",
    "gpuNum": 8,
    "hideHardwareSpecs": false,
    "memoryGiB": 1152,
    "name": "ml.p4d.24xlarge",
    "vcpuNum": 96
   },
   {
    "_defaultOrder": 56,
    "_isFastLaunch": false,
    "category": "Accelerated computing",
    "gpuNum": 8,
    "hideHardwareSpecs": false,
    "memoryGiB": 1152,
    "name": "ml.p4de.24xlarge",
    "vcpuNum": 96
   }
  ],
  "colab": {
   "name": "Fine-tune a language model",
   "provenance": []
  },
  "instance_type": "ml.m5.2xlarge",
  "kernelspec": {
   "display_name": "Python 3 (ipykernel)",
   "language": "python",
   "name": "python3"
  },
  "language_info": {
   "codemirror_mode": {
    "name": "ipython",
    "version": 3
   },
   "file_extension": ".py",
   "mimetype": "text/x-python",
   "name": "python",
   "nbconvert_exporter": "python",
   "pygments_lexer": "ipython3",
   "version": "3.9.12"
  },
  "vscode": {
   "interpreter": {
    "hash": "aee8b7b246df8f9039afb4144a1f6fd8d2ca17a180786b69acc140d282b71a49"
   }
  }
 },
 "nbformat": 4,
 "nbformat_minor": 4
}
